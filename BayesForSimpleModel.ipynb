{
 "cells": [
  {
   "cell_type": "markdown",
   "metadata": {},
   "source": [
    "## A Bayesian parameter inference of a **Simple hydro-response model**.\n",
    ">**1. Loading simulation data**\n",
    "    - This section show how to load simulation data from the disk. Anyone who wish to use the code to do another Bayesian analysis for relativistic heavy ion collision should do minor change to this section that suits their model and simulation data.\n",
    "            --Python modules used\n",
    "                - pandas\n",
    "    \n",
    ">**2. Preprocessing of the simulation data**\n",
    "    - We perform a scaling transform and then a Principal Component Analysis (PCA) to reduce the dimensions of the data. We keep only 10 PCs for the next steps of the analysis.\n",
    "            --Python modules used\n",
    "                - numpy, sklearn\n",
    "                \n",
    ">**3. Load priors and experimental data**\n",
    "    - We use uniform priors and load the bounds for the priors from a file saved on the disk. Relevant experimental data is also loaded from the disk. A new analysis with new data will have to make changes to this part of the code. \n",
    "            --Python modules used\n",
    "                - pandas\n",
    "\n",
    ">**4. Building Emulators**\n",
    "    - Since the simulations are computationally expensive we need surrogate models that can be trained on limited number of points and then used to predict the simulation output at any given point. For this purpose we use Gaussian Processes and they also give the uncertainty in the prediction which is very crucial for the reliability of the Bayesian parameter extraction method. \n",
    "            --Python modules used\n",
    "                - sklearn Gaussian Processors, numpy\n",
    "                \n",
    ">**5. Bayesian Parameter Estimation**\n",
    "    - This is where everything comes together and magic happens! The Bayes theorem is used to find the posterior of the model parameters using the experimental data.\n",
    "            --Python modules used\n",
    "                - pandas, numpy, seaborn"
   ]
  },
  {
   "cell_type": "code",
   "execution_count": 1,
   "metadata": {},
   "outputs": [],
   "source": [
    "name=\"Simple_bayes\""
   ]
  },
  {
   "cell_type": "code",
   "execution_count": 2,
   "metadata": {},
   "outputs": [],
   "source": [
    "import subprocess\n",
    "from multiprocessing import Pool\n",
    "from multiprocessing import cpu_count\n",
    "import os\n",
    "import pickle\n",
    "import math\n",
    "\n",
    "import numpy as np\n",
    "from numpy.linalg import inv\n",
    "import matplotlib.pyplot as plt\n",
    "\n",
    "import seaborn as sns\n",
    "import pandas as pd\n",
    "\n",
    "from sklearn.decomposition import PCA\n",
    "from sklearn.preprocessing import StandardScaler\n",
    "from sklearn.gaussian_process import GaussianProcessRegressor as gpr\n",
    "from sklearn.gaussian_process import kernels as krnl\n",
    "\n",
    "import scipy.stats as st\n",
    "from scipy import optimize\n",
    "from scipy.linalg import lapack\n",
    "\n",
    "from pyDOE import lhs\n",
    "import emcee # 3.0\n",
    "import ptemcee\n",
    "import h5py\n",
    "\n",
    "sns.set(\"notebook\")\n",
    "\n",
    "#Saved emulator name\n",
    "EMU='simple_emu.dat'\n",
    "# Where to save the figures and data files\n",
    "PROJECT_ROOT_DIR = \"Results\"\n",
    "FIGURE_ID = \"Results/FigureFiles\"\n",
    "DATA_ID = \"DataFiles/\""
   ]
  },
  {
   "cell_type": "markdown",
   "metadata": {},
   "source": [
    "### A toy model to demonstrate basic ideas of bulk medium calibraiton"
   ]
  },
  {
   "cell_type": "markdown",
   "metadata": {},
   "source": [
    "#### Bulk models:\n",
    "1. Initial condition: initial condition energy density, geometry, $e(x_\\perp)$\n",
    "2. Dynamical models (JETSCAPE):\n",
    "   * Preequilbirum evolution\n",
    "   * Hydrodynamic evolution (take $\\eta/s(T), \\zeta/s(T)$ as input)\n",
    "   * Particlziation + hadronic scatterings / decays\n",
    "   \n",
    "Dynamical evolution translates initial condition into final-state observables such as\n",
    "   * particle multiplicity\n",
    "   * anisotropy flows and correlations\n",
    "   * ...\n",
    "\n",
    "In this exercise, we will use pregenerated TRENTo results of $E_T$, $\\langle e\\rangle$, and $\\epsilon_2$ v.s. Centrality to represent an initial condition. Then, instead of using the full JETSCAPE bulk simulation, we will use a toy model that will demonstrate a few basic but important feautre of the full analysis.\n"
   ]
  },
  {
   "cell_type": "markdown",
   "metadata": {},
   "source": [
    "#### Set up the toy problem\n",
    "\n",
    "##### Target quantity $\\eta/s(T)$: \n",
    "We would like to extract the temperature-dependent shear viscosity that is parameterized as \n",
    "$$\\frac{\\eta}{s}(T) = \\color{red}{\\left(\\frac{\\eta}{s}\\right)_A } + (T/{\\rm GeV}-0.15) \\color{red}{\\left(\\frac{\\eta}{s}\\right)_B }$$\n",
    "\n",
    "\n",
    "Suppose any initional condition model has provided as $dE_T/d\\eta_s$ ($E_T$ for short), $\\frac{de}{\\tau_0d\\eta_s dx^2}$ ($e_0$ for short), and $\\epsilon_2$ v.s. centraliy.\n",
    "\n",
    "We assume they are mapped to the final-state charged particle multiplictiy and elliptic flow by the following response:\n",
    "\n",
    "$$\n",
    "N_{\\rm ch} = {\\color{red} n} \\times E_T \\times (1 + (\\eta/s)_{\\rm eff})\\\\\n",
    "v_2 = \\epsilon_2 \\times \\exp\\left\\{-\\frac{(\\eta/s)_{\\rm eff}}{N^{1/3}_{\\rm ch}/60}\\right\\}\n",
    "$$\n",
    "\n",
    "Here, let's assume the damping effective on $v_2$ due to viscosity is only sensitive to a time-averaged effective (https://arxiv.org/abs/1912.06287) $$(\\eta/s)_{\\rm eff} = \\frac{\\int_{T_c}^{T_0} T^{p} \\left(\\eta/s\\right)_T dT }{\\int_{T_c}^{T_0} T^{p} dT } $$\n"
   ]
  },
  {
   "cell_type": "code",
   "execution_count": 3,
   "metadata": {},
   "outputs": [],
   "source": [
    "def Load_Initial_Conditions(Run_TRENTo=False, Nevents=10000):\n",
    "    if not Run_TRENTo:\n",
    "        print(\"Loading pregenerted collision geometry information\")\n",
    "        cen, cenL, cenU, ET, ed, e2 = np.loadtxt(DATA_ID+\"/Geometry_info.dat\").T\n",
    "    else:\n",
    "        TRENTo_dtype=[('idx',np.int,1), ('b', np.float,1),\n",
    "              ('npart', np.int,1), ('area', np.float, 1), \n",
    "              ('ET', np.float,1),\n",
    "              ('e2', np.float,1), ('e3', np.float,1),  \n",
    "              ('e4', np.float,1), ('e5', np.float,1),  \n",
    "             ]\n",
    "        print(\"Generating trento Pb+Pb with default params\")\n",
    "        proc = subprocess.run(\n",
    "                ['trento', 'Pb','Pb', '{:d}'.format(Nevents)],\n",
    "                stdout=subprocess.PIPE\n",
    "            )\n",
    "        results = np.empty(Nevents, dtype=TRENTo_dtype)\n",
    "        for l, it in zip(proc.stdout.splitlines(), results):\n",
    "            for dtype, value in zip(TRENTo_dtype, l.split()):\n",
    "                it[dtype[0]] = value\n",
    "        # sort by ET\n",
    "        sorted_events = results[np.argsort(results['ET'])[::-1]]\n",
    "        cenbin = np.array([0,5,10,20,30,40,50,60,70]) \n",
    "        cen = (cenbin[1:] + cenbin[:-1])/2.\n",
    "        Ibin = (cenbin*Nevents/100.).astype(int)\n",
    "        ET = np.array([sorted_events['ET'][il:ih].mean() for il, ih in zip(Ibin[:-1], Ibin[1:]) ])\n",
    "        Area = np.array([sorted_events['area'][il:ih].mean() for il, ih in zip(Ibin[:-1], Ibin[1:]) ])\n",
    "        e2 = np.array([sorted_events['e2'][il:ih].mean() for il, ih in zip(Ibin[:-1], Ibin[1:]) ])\n",
    "        ed = ET/Area/5.076**2/20\n",
    "        with open(DATA_ID+\"Geometry_info.dat\", 'w') as f:\n",
    "            f.write(\"#cen\\tcenL\\tcenU\\tET\\te2\\te3\\n\")\n",
    "            for ic, icl, icu, iet, ied, ie2 in zip(cen, cenbin[:-1], cenbin[1:], ET, ed, e2):\n",
    "                f.write((\"{:1.1f}\\t\"*3+\"{:1.4f}\\t\"*3+'\\n').format(ic,icl,icu,iet,ied, ie2))\n",
    "\n",
    "    return np.array([cen, ET, ed, e2])"
   ]
  },
  {
   "cell_type": "code",
   "execution_count": 4,
   "metadata": {},
   "outputs": [
    {
     "name": "stdout",
     "output_type": "stream",
     "text": [
      "Loading pregenerted collision geometry information\n"
     ]
    }
   ],
   "source": [
    "#cen, ET, ed, e2 = Load_Initial_Conditions(Run_TRENTo=True)\n",
    "cen, ET, ed, e2 = Load_Initial_Conditions(Run_TRENTo=False)"
   ]
  },
  {
   "cell_type": "code",
   "execution_count": 5,
   "metadata": {},
   "outputs": [
    {
     "data": {
      "image/png": "[encoded data removed]",
      "text/plain": [
       "<Figure size 720x252 with 3 Axes>"
      ]
     },
     "metadata": {
      "needs_background": "light"
     },
     "output_type": "display_data"
    }
   ],
   "source": [
    "fig, axes = plt.subplots(1,3, figsize=(10,3.5), sharex=True)\n",
    "for ax,y,name in zip(axes, \n",
    "                    [ET, ed, e2],\n",
    "                    [r\"Unnormed $N_{\\rm ch}$\", r\"Unnormed $T^3(\\tau_0)$\", r\"$e_2$\"]):\n",
    "    ax.plot(cen, y, 'kD')\n",
    "    ax.set_title(name)\n",
    "    ax.set_xlabel(\"Centrality (%)\")\n",
    "    ax.set_ylim(ymin=0, ymax=y.max()*1.2)\n",
    "plt.tight_layout(True)"
   ]
  },
  {
   "cell_type": "code",
   "execution_count": 6,
   "metadata": {},
   "outputs": [],
   "source": [
    "# Toy model of a hydro-like repsonse to eccentricity\n",
    "from scipy.integrate import quad\n",
    "\n",
    "\n",
    "def etas(T, params):\n",
    "    etasA, etasB, etasC, etasD = params\n",
    "    res = etasA + etasB*(T-etasD)*(T>etasD) + etasC*(etasD-T)*(T<etasD)\n",
    "    if not hasattr(T, \"__len__\"):\n",
    "        return np.max([res, 0.])\n",
    "    else:\n",
    "        res[res<0.] = 0.\n",
    "        return res\n",
    "\n",
    "\"\"\"\n",
    "def etas(T, params):\n",
    "    etasA, etasB = params\n",
    "    res = etasA + etasB*(T-0.15)\n",
    "    if not hasattr(T, \"__len__\"):\n",
    "        return np.max([res, 0.])\n",
    "    else:\n",
    "        res[res<0.] = 0.\n",
    "        return res\n",
    "    \n",
    "\n",
    "def etas(T, params):\n",
    "    etas = params[0]\n",
    "    return etas * np.ones_like(T)\n",
    "\"\"\"\n",
    "Tpower = -3\n",
    "\n",
    "def etas_eff(Tmax, params):\n",
    "    N = quad(lambda T: T**Tpower * etas(T, params), 0.13, Tmax)[0]\n",
    "    D = quad(lambda T: T**Tpower, 0.13, Tmax)[0]\n",
    "    return N/D\n",
    "\n",
    "def ToyModel(params):\n",
    "    norm = params[0]\n",
    "    etas_avg = np.array([etas_eff((norm*ied)**(1./3.), params[1:]) for ied in ed])\n",
    "    mult = norm * ET * (1. + etas_avg)\n",
    "    v2 = e2 * np.exp(- 50 * etas_avg / (mult)**.3333 ) \n",
    "    return mult, v2"
   ]
  },
  {
   "cell_type": "markdown",
   "metadata": {},
   "source": [
    "### 1. Model data\n",
    "\n",
    "#### option 1: load from pregenerated data files\n",
    "#### option 2: run the simple model"
   ]
  },
  {
   "cell_type": "code",
   "execution_count": 7,
   "metadata": {},
   "outputs": [],
   "source": [
    "if not os.path.exists(PROJECT_ROOT_DIR):\n",
    "    os.mkdir(PROJECT_ROOT_DIR)\n",
    "\n",
    "if not os.path.exists(FIGURE_ID):\n",
    "    os.makedirs(FIGURE_ID)\n",
    "\n",
    "if not os.path.exists(DATA_ID):\n",
    "    os.makedirs(DATA_ID)\n",
    "\n",
    "def image_path(fig_id):\n",
    "    return os.path.join(FIGURE_ID, fig_id)\n",
    "\n",
    "def data_path(dat_id):\n",
    "    return os.path.join(DATA_ID, dat_id)\n",
    "\n",
    "def save_fig(fig_id):\n",
    "    plt.savefig(image_path(fig_id) + \".png\", format='png')"
   ]
  },
  {
   "cell_type": "code",
   "execution_count": 177,
   "metadata": {},
   "outputs": [],
   "source": [
    "# Design points\n",
    "#Model parameter names in Latex compatble form\n",
    "Ndesign = 100\n",
    "read_design_from_file = False\n",
    "if read_design_from_file:\n",
    "    design_df = pd.read_csv(data_path('designForSimpleModel'))\n",
    "    design = design_df.values\n",
    "    ranges_df = pd.read_csv(data_path('designRangeForSimpleModel'))\n",
    "    ranges = ranges_df.values\n",
    "    print(f'Load design from file. Design shape is {design.shape}')\n",
    "else:\n",
    "    model_param_dsgn = ['$N$', '$\\eta/s(A)$', '$\\eta/s(B)$', '$\\eta/s(C)$', '$\\eta/s(D)$']\n",
    "    ranges = np.array([\n",
    "        [6,15],[.02, 0.2],[-1,4],[0,10],[0.1, 0.35]\n",
    "    ])\n",
    "    ranges_df = pd.DataFrame(ranges, columns=['min','max'], index=model_param_dsgn)\n",
    "    ranges_df.to_csv(data_path('designRangeForSimpleModel'), index=False)\n",
    "    \n",
    "    unit = lhs(ranges.shape[0], samples=Ndesign, criterion='maximin')\n",
    "    design = unit*(ranges[:,1]-ranges[:,0]) + ranges[:,0]\n",
    "    design_df = pd.DataFrame(design, columns=model_param_dsgn)\n",
    "    design_df.to_csv(data_path('designForSimpleModel'), index=False)\n",
    "design_max = ranges[:,1]\n",
    "design_min = ranges[:,0]\n",
    "design_ptp = design_max - design_min\n",
    "Xdim = ranges.shape[0]"
   ]
  },
  {
   "cell_type": "code",
   "execution_count": 178,
   "metadata": {},
   "outputs": [
    {
     "data": {
      "text/html": [
       "<div>\n",
       "<style scoped>\n",
       "    .dataframe tbody tr th:only-of-type {\n",
       "        vertical-align: middle;\n",
       "    }\n",
       "\n",
       "    .dataframe tbody tr th {\n",
       "        vertical-align: top;\n",
       "    }\n",
       "\n",
       "    .dataframe thead th {\n",
       "        text-align: right;\n",
       "    }\n",
       "</style>\n",
       "<table border=\"1\" class=\"dataframe\">\n",
       "  <thead>\n",
       "    <tr style=\"text-align: right;\">\n",
       "      <th></th>\n",
       "      <th>min</th>\n",
       "      <th>max</th>\n",
       "    </tr>\n",
       "  </thead>\n",
       "  <tbody>\n",
       "    <tr>\n",
       "      <td>$N$</td>\n",
       "      <td>6.00</td>\n",
       "      <td>15.00</td>\n",
       "    </tr>\n",
       "    <tr>\n",
       "      <td>$\\eta/s(A)$</td>\n",
       "      <td>0.02</td>\n",
       "      <td>0.20</td>\n",
       "    </tr>\n",
       "    <tr>\n",
       "      <td>$\\eta/s(B)$</td>\n",
       "      <td>-1.00</td>\n",
       "      <td>4.00</td>\n",
       "    </tr>\n",
       "    <tr>\n",
       "      <td>$\\eta/s(C)$</td>\n",
       "      <td>0.00</td>\n",
       "      <td>10.00</td>\n",
       "    </tr>\n",
       "    <tr>\n",
       "      <td>$\\eta/s(D)$</td>\n",
       "      <td>0.10</td>\n",
       "      <td>0.35</td>\n",
       "    </tr>\n",
       "  </tbody>\n",
       "</table>\n",
       "</div>"
      ],
      "text/plain": [
       "              min    max\n",
       "$N$          6.00  15.00\n",
       "$\\eta/s(A)$  0.02   0.20\n",
       "$\\eta/s(B)$ -1.00   4.00\n",
       "$\\eta/s(C)$  0.00  10.00\n",
       "$\\eta/s(D)$  0.10   0.35"
      ]
     },
     "execution_count": 178,
     "metadata": {},
     "output_type": "execute_result"
    }
   ],
   "source": [
    "ranges_df.head() "
   ]
  },
  {
   "cell_type": "code",
   "execution_count": 179,
   "metadata": {},
   "outputs": [
    {
     "data": {
      "text/html": [
       "<div>\n",
       "<style scoped>\n",
       "    .dataframe tbody tr th:only-of-type {\n",
       "        vertical-align: middle;\n",
       "    }\n",
       "\n",
       "    .dataframe tbody tr th {\n",
       "        vertical-align: top;\n",
       "    }\n",
       "\n",
       "    .dataframe thead th {\n",
       "        text-align: right;\n",
       "    }\n",
       "</style>\n",
       "<table border=\"1\" class=\"dataframe\">\n",
       "  <thead>\n",
       "    <tr style=\"text-align: right;\">\n",
       "      <th></th>\n",
       "      <th>$N$</th>\n",
       "      <th>$\\eta/s(A)$</th>\n",
       "      <th>$\\eta/s(B)$</th>\n",
       "      <th>$\\eta/s(C)$</th>\n",
       "      <th>$\\eta/s(D)$</th>\n",
       "    </tr>\n",
       "  </thead>\n",
       "  <tbody>\n",
       "    <tr>\n",
       "      <td>0</td>\n",
       "      <td>14.812959</td>\n",
       "      <td>0.129185</td>\n",
       "      <td>3.621012</td>\n",
       "      <td>0.588236</td>\n",
       "      <td>0.166844</td>\n",
       "    </tr>\n",
       "    <tr>\n",
       "      <td>1</td>\n",
       "      <td>11.816548</td>\n",
       "      <td>0.029470</td>\n",
       "      <td>3.557720</td>\n",
       "      <td>4.814574</td>\n",
       "      <td>0.269340</td>\n",
       "    </tr>\n",
       "    <tr>\n",
       "      <td>2</td>\n",
       "      <td>9.741302</td>\n",
       "      <td>0.046330</td>\n",
       "      <td>1.508122</td>\n",
       "      <td>5.899506</td>\n",
       "      <td>0.326726</td>\n",
       "    </tr>\n",
       "    <tr>\n",
       "      <td>3</td>\n",
       "      <td>12.960314</td>\n",
       "      <td>0.193729</td>\n",
       "      <td>-0.139231</td>\n",
       "      <td>9.183265</td>\n",
       "      <td>0.180442</td>\n",
       "    </tr>\n",
       "    <tr>\n",
       "      <td>4</td>\n",
       "      <td>6.121447</td>\n",
       "      <td>0.035178</td>\n",
       "      <td>1.158081</td>\n",
       "      <td>1.516017</td>\n",
       "      <td>0.189646</td>\n",
       "    </tr>\n",
       "  </tbody>\n",
       "</table>\n",
       "</div>"
      ],
      "text/plain": [
       "         $N$  $\\eta/s(A)$  $\\eta/s(B)$  $\\eta/s(C)$  $\\eta/s(D)$\n",
       "0  14.812959     0.129185     3.621012     0.588236     0.166844\n",
       "1  11.816548     0.029470     3.557720     4.814574     0.269340\n",
       "2   9.741302     0.046330     1.508122     5.899506     0.326726\n",
       "3  12.960314     0.193729    -0.139231     9.183265     0.180442\n",
       "4   6.121447     0.035178     1.158081     1.516017     0.189646"
      ]
     },
     "execution_count": 179,
     "metadata": {},
     "output_type": "execute_result"
    }
   ],
   "source": [
    "design_df.head() "
   ]
  },
  {
   "cell_type": "code",
   "execution_count": 183,
   "metadata": {},
   "outputs": [
    {
     "data": {
      "text/plain": [
       "Text(0, 0.5, '$\\\\eta/s(A)$')"
      ]
     },
     "execution_count": 183,
     "metadata": {},
     "output_type": "execute_result"
    },
    {
     "data": {
      "image/png": "[encoded data removed]",
      "text/plain": [
       "<Figure size 360x360 with 3 Axes>"
      ]
     },
     "metadata": {
      "needs_background": "light"
     },
     "output_type": "display_data"
    }
   ],
   "source": [
    "# check the design for the ith and jth parameters\n",
    "i,j = 0,1\n",
    "\n",
    "left, width = 0.1, 0.75\n",
    "bottom, height = 0.1, 0.75\n",
    "spacing = 0.005\n",
    "rect_scatter = [left, bottom, width, height]\n",
    "rect_histx = [left, bottom + height + spacing, width, 0.2]\n",
    "rect_histy = [left + width + spacing, bottom, 0.2, height]\n",
    "\n",
    "# start with a square Figure\n",
    "fig = plt.figure(figsize=(5, 5))\n",
    "ax = fig.add_axes(rect_scatter)\n",
    "ax1 = fig.add_axes(rect_histx, sharex=ax)\n",
    "ax2 = fig.add_axes(rect_histy, sharey=ax)\n",
    "ax1.tick_params(axis=\"x\", labelbottom=False)\n",
    "ax2.tick_params(axis=\"y\", labelleft=False)\n",
    "\n",
    "ax.scatter(design[:,i], design[:,j])\n",
    "ax1.hist(design[:,i], density=True)\n",
    "ax2.hist(design[:,j], orientation='horizontal', density=True)\n",
    "ax.set_xlabel(model_param_dsgn[i])\n",
    "ax.set_ylabel(model_param_dsgn[j])"
   ]
  },
  {
   "cell_type": "code",
   "execution_count": 184,
   "metadata": {},
   "outputs": [],
   "source": [
    "#Simulation outputs at the design points\n",
    "simulation = np.array([np.concatenate(ToyModel(param)) for param in design])"
   ]
  },
  {
   "cell_type": "code",
   "execution_count": 185,
   "metadata": {},
   "outputs": [
    {
     "name": "stdout",
     "output_type": "stream",
     "text": [
      "Design shape:  (100, 5)\n",
      "Model output shape:  (100, 16)\n"
     ]
    },
    {
     "data": {
      "image/png": "[encoded data removed]",
      "text/plain": [
       "<Figure size 432x216 with 2 Axes>"
      ]
     },
     "metadata": {
      "needs_background": "light"
     },
     "output_type": "display_data"
    }
   ],
   "source": [
    "# Check if the observables forms joint normal distribution (apprimately)\n",
    "# If not, we should worry (as it is hard for GP/PCA to dealt with highly-non-linearly correlations) and make transformations\n",
    "\n",
    "X = np.copy(design)#design.values\n",
    "Y = np.copy(simulation)#simulation.values\n",
    "Ydim = Y.shape[1]\n",
    "\n",
    "print( \"Design shape: \", X.shape )\n",
    "print( \"Model output shape: \", Y.shape )\n",
    "\n",
    "Nc = len(cen)\n",
    "\n",
    "id1,  id2 = 1, 10\n",
    "fig, (ax1, ax2) = plt.subplots(1,2,figsize=(6,3))\n",
    "ax1.scatter(Y[:,id1], Y[:,id2])\n",
    "ax1.set_xlabel(r\"${\\rm N}_1$\")\n",
    "ax1.set_ylabel(r\"${\\rm v}_2$\")\n",
    "Y = Y**.5\n",
    "ax2.scatter(Y[:,id1], Y[:,id2])\n",
    "ax2.set_xlabel(r\"$\\ln[{\\rm Obs}_1]$\")\n",
    "ax2.set_ylabel(r\"$\\ln[{\\rm Obs}_2]$\")\n",
    "plt.tight_layout(True)\n",
    "\n",
    "# >>> Compare the effect w/ and w/o the transformation"
   ]
  },
  {
   "cell_type": "markdown",
   "metadata": {},
   "source": [
    "### 2. Preprocessing of simulation data."
   ]
  },
  {
   "cell_type": "code",
   "execution_count": 186,
   "metadata": {},
   "outputs": [],
   "source": [
    "#Scaling the data to be zero mean and unit variance for each feature\n",
    "SS  =  StandardScaler(copy=True)"
   ]
  },
  {
   "cell_type": "code",
   "execution_count": 187,
   "metadata": {},
   "outputs": [
    {
     "name": "stdout",
     "output_type": "stream",
     "text": [
      "shape of u (100, 100) shape of s (16,) shape of vh (16, 16)\n"
     ]
    }
   ],
   "source": [
    "#Singular Value decomposition\n",
    "u, s, vh = np.linalg.svd(SS.fit_transform(Y), full_matrices=True)\n",
    "print(f'shape of u {u.shape} shape of s {s.shape} shape of vh {vh.shape}')"
   ]
  },
  {
   "cell_type": "code",
   "execution_count": 188,
   "metadata": {},
   "outputs": [],
   "source": [
    "#whiten and project data to principal component axis (only keeping first 10 PCs)\n",
    "Npc = 3\n",
    "pc_tf_data=u[:,0:Npc] * math.sqrt(u.shape[0]-1)\n",
    "#Scale Transformation from PC space to original data space\n",
    "inverse_tf_matrix= np.diag(s[0:Npc]) @ vh[0:Npc,:] * SS.scale_.reshape(1,Ydim)/ math.sqrt(u.shape[0]-1)"
   ]
  },
  {
   "cell_type": "markdown",
   "metadata": {},
   "source": [
    "#### A check for consistency of our explicit PCA calculation from scikit-learn library PCA module.\n",
    "We need access to the scaling transform involved in PCA for uncertainty propagation of emulator predictions. And also it is needed to find the truncation error of keeping only the dominant PC of data. So we prefer to rather use explicit PCA using SVD rather than using the scikit-learn PCA module"
   ]
  },
  {
   "cell_type": "markdown",
   "metadata": {},
   "source": [
    "##### Check the PC transform (optional)"
   ]
  },
  {
   "cell_type": "code",
   "execution_count": 189,
   "metadata": {},
   "outputs": [
    {
     "name": "stdout",
     "output_type": "stream",
     "text": [
      "Transformed data shape (100, 3)\n"
     ]
    }
   ],
   "source": [
    "# White actually multiply each PC by sqrt of n_samples-1\n",
    "pca_analysis = PCA(n_components=Npc, whiten=True, svd_solver='auto')\n",
    "pca_analysis.fit(SS.fit_transform(Y))\n",
    "scikit_pc_tf_data=pca_analysis.transform(SS.fit_transform(Y))\n",
    "print(f'Transformed data shape {scikit_pc_tf_data.shape}')"
   ]
  },
  {
   "cell_type": "code",
   "execution_count": 190,
   "metadata": {},
   "outputs": [
    {
     "name": "stdout",
     "output_type": "stream",
     "text": [
      "Print True if the transformed data is same from SVD aproach and scikitlearn PCA methods\n",
      "True\n"
     ]
    }
   ],
   "source": [
    "#The sign difference is OK. That is why we only compare abs value of transformed Data\n",
    "#explanation https://stackoverflow.com/questions/44765682/in-sklearn-decomposition-pca-why-are-components-negative\n",
    "print(f'Print True if the transformed data is same from SVD aproach and scikit\\\n",
    "learn PCA methods\\n{np.allclose(np.abs(scikit_pc_tf_data),np.abs(pc_tf_data))}')"
   ]
  },
  {
   "cell_type": "markdown",
   "metadata": {},
   "source": [
    "##### Check inverse PC transform"
   ]
  },
  {
   "cell_type": "code",
   "execution_count": 191,
   "metadata": {},
   "outputs": [
    {
     "name": "stdout",
     "output_type": "stream",
     "text": [
      "Print True if the inverse transformed data is same from SVD aproach and scikitlearn PCA methods\n",
      "True\n"
     ]
    }
   ],
   "source": [
    "scikit_inverse_tf_data=SS.inverse_transform(pca_analysis.inverse_transform(scikit_pc_tf_data))\n",
    "inverse_tf_data=pc_tf_data @ inverse_tf_matrix + np.repeat([SS.mean_],repeats=Ndesign, axis=0)\n",
    "print(f'Print True if the inverse transformed data is same from SVD aproach and scikit\\\n",
    "learn PCA methods\\n{np.allclose(scikit_inverse_tf_data,inverse_tf_data)}')"
   ]
  },
  {
   "cell_type": "code",
   "execution_count": 192,
   "metadata": {},
   "outputs": [
    {
     "data": {
      "image/png": "[encoded data removed]",
      "text/plain": [
       "<Figure size 504x288 with 2 Axes>"
      ]
     },
     "metadata": {
      "needs_background": "light"
     },
     "output_type": "display_data"
    }
   ],
   "source": [
    "# print the explained raito of variance\n",
    "fig, (ax1, ax2) = plt.subplots(1,2,figsize=(7,4))\n",
    "importance = pca_analysis.explained_variance_\n",
    "cumulateive_importance = np.cumsum(importance)/np.sum(importance)\n",
    "idx = np.arange(1,1+len(importance))\n",
    "ax1.bar(idx,importance)\n",
    "ax1.set_xlabel(\"PC index\")\n",
    "ax1.set_title(\"Variance\")\n",
    "ax2.bar(idx,cumulateive_importance)\n",
    "ax2.set_xlabel(r\"The first $n$ PC\")\n",
    "ax2.set_title(\"Cumulative explained variance\")\n",
    "plt.tight_layout(True)\n",
    "# sum_1^nth var / total"
   ]
  },
  {
   "cell_type": "markdown",
   "metadata": {},
   "source": [
    "### 3. A pseudo-experimental data"
   ]
  },
  {
   "cell_type": "code",
   "execution_count": 195,
   "metadata": {},
   "outputs": [],
   "source": [
    "# Pseudo data generated with \"true\" parameters\n",
    "true_values = np.array([9.0, 0.1, 1, 4, 0.2])\n",
    "stat_level = 0.05\n",
    "# true_values = np.array([9.0, 0.1])\n",
    "# true_values = np.array([9.0, 0.1, 0.6])\n",
    "Mult, v2 = ToyModel(true_values)\n",
    "\n",
    "y_exp = np.concatenate([Mult, v2])\n",
    "y_exp *= (1. + np.random.normal(0,stat_level,len(y_exp)))\n",
    "y_stat = y_exp * stat_level\n",
    "y_exp_variance = np.diag(y_stat**2)\n",
    "\n",
    "Ydim = len(y_exp)"
   ]
  },
  {
   "cell_type": "code",
   "execution_count": 196,
   "metadata": {},
   "outputs": [
    {
     "data": {
      "image/png": "[encoded data removed]",
      "text/plain": [
       "<Figure size 432x216 with 2 Axes>"
      ]
     },
     "metadata": {
      "needs_background": "light"
     },
     "output_type": "display_data"
    }
   ],
   "source": [
    "fig, axes = plt.subplots(1,2, figsize=(6,3), sharex=True)\n",
    "for ax,y,name in zip(axes, \n",
    "                    [Mult, v2],\n",
    "                    [r\"$N_{\\rm ch}$\", r\"$v_2$\"]):\n",
    "    ax.errorbar(cen, y, yerr=y*stat_level, fmt='k.')\n",
    "    ax.set_ylabel(name)\n",
    "    ax.set_xlabel(\"Centrality (%)\")\n",
    "    ax.set_ylim(ymin=0, ymax=y.max()*1.2)\n",
    "plt.tight_layout(True)"
   ]
  },
  {
   "cell_type": "markdown",
   "metadata": {},
   "source": [
    "### 4. Building emulators"
   ]
  },
  {
   "cell_type": "code",
   "execution_count": 197,
   "metadata": {},
   "outputs": [
    {
     "name": "stdout",
     "output_type": "stream",
     "text": [
      "GPR score is 0.9969052470877886 \n",
      "\n",
      "--- 0.4659881591796875 seconds ---\n",
      "GPR score is 0.9974698892614696 \n",
      "\n",
      "--- 0.29363346099853516 seconds ---\n",
      "GPR score is 0.9984344507143454 \n",
      "\n",
      "--- 0.5181536674499512 seconds ---\n"
     ]
    }
   ],
   "source": [
    "import time\n",
    "overide = True\n",
    "if (os.path.exists(data_path(EMU))) and (overide==False):\n",
    "    print('Saved emulators exists and overide is prohibited')\n",
    "    with open(data_path(EMU),\"rb\") as f:\n",
    "        Emulators=pickle.load(f)\n",
    "else:\n",
    "    Emulators=[]\n",
    "    for i in range(0,Npc):\n",
    "        start_time = time.time()\n",
    "        kernel=1*krnl.RBF(length_scale=design_ptp,\n",
    "                          length_scale_bounds=np.outer(design_ptp, (1e-2, 1e2)))\\\n",
    "               + krnl.WhiteKernel(noise_level=.1, \n",
    "                                  noise_level_bounds=(1e-2, 1e2))\n",
    "        GPR=gpr(kernel=kernel,n_restarts_optimizer=5) # >>> check alpha\n",
    "        GPR.fit(design, pc_tf_data[:,i].reshape(-1,1))\n",
    "        print(f'GPR score is {GPR.score(design,pc_tf_data[:,i])} \\n')\n",
    "        #print(f'GPR log_marginal likelihood {GPR.log_marginal_likelihood()} \\n')\n",
    "        print(\"--- %s seconds ---\" % (time.time() - start_time))\n",
    "        Emulators.append(GPR)\n",
    "\n",
    "if (overide==True) or not (os.path.exists(data_path(EMU))):\n",
    "    with open(data_path(EMU),\"wb\") as f:\n",
    "        pickle.dump(Emulators,f)\n",
    "        \n",
    "# >>> let people check the score!"
   ]
  },
  {
   "cell_type": "code",
   "execution_count": 198,
   "metadata": {},
   "outputs": [],
   "source": [
    "def predict_observables(model_parameters):\n",
    "    \"\"\"Predicts the observables for any model parameter value using the trained emulators.\n",
    "    \n",
    "    Parameters\n",
    "    ----------\n",
    "    Theta_input : Model parameter values. Should be an 1D array of 17 model parametrs.\n",
    "    Return\n",
    "    ------\n",
    "    Mean value and full error covaraiance matrix of the prediction is returened. \"\"\"\n",
    "    \n",
    "    mean=[]\n",
    "    variance=[]\n",
    "    theta=np.array(model_parameters).flatten()\n",
    "    \n",
    "    if len(theta)!=Xdim:\n",
    "        raise TypeError('The input model_parameters array does not have the right dimensions')\n",
    "    else: \n",
    "        theta=np.array(theta).reshape(1,Xdim)\n",
    "        for i in range(0,Npc):\n",
    "            mn,std=Emulators[i].predict(theta,return_std=True)\n",
    "            mean.append(mn)\n",
    "            variance.append(std**2)\n",
    "    mean=np.array(mean).reshape(1,-1)\n",
    "    inverse_transformed_mean=mean @ inverse_tf_matrix + np.array(SS.mean_).reshape(1,-1)\n",
    "    new_mean = inverse_transformed_mean**2\n",
    "    \n",
    "    variance_matrix=np.diag(np.array(variance).flatten())\n",
    "    A_p = np.abs(inverse_tf_matrix)\n",
    "    inverse_transformed_variance = np.einsum('ik,kl,lj-> ij', A_p.T, variance_matrix, A_p, optimize=False)\n",
    "    new_variance = inverse_transformed_variance * np.outer(2.*new_mean[0]/inverse_transformed_mean[0], \n",
    "                                                           2.*new_mean[0]/inverse_transformed_mean[0])\n",
    "    return new_mean, new_variance"
   ]
  },
  {
   "cell_type": "markdown",
   "metadata": {},
   "source": [
    "## Emulator validation\n",
    "\n",
    "Before applying the above model predictor based on PCA+GP, it is impertaive to validate its performance.\n",
    "The most straight forward way is to \n",
    "\n",
    "1. Sample novel parameters sets other than those used to train GPs. \n",
    "2. Compare GP prediction to the physical model calculations at these novel parameter points"
   ]
  },
  {
   "cell_type": "code",
   "execution_count": 199,
   "metadata": {},
   "outputs": [],
   "source": [
    "# randomly sample another 50 points from the parameter space\n",
    "X_validation = np.random.rand(50, Xdim)*design_ptp + design_min\n",
    "Y_validation = np.array([np.concatenate(ToyModel(param)) for param in X_validation])"
   ]
  },
  {
   "cell_type": "code",
   "execution_count": 200,
   "metadata": {
    "scrolled": true
   },
   "outputs": [
    {
     "data": {
      "image/png": "[encoded data removed]",
      "text/plain": [
       "<Figure size 504x504 with 4 Axes>"
      ]
     },
     "metadata": {
      "needs_background": "light"
     },
     "output_type": "display_data"
    }
   ],
   "source": [
    "# Next, get the emulator prediction and uncertainty\n",
    "Y_predicted = []\n",
    "Y_std = []\n",
    "for param in X_validation:\n",
    "    mean, var = predict_observables(param)\n",
    "    Y_predicted.append(mean[0])\n",
    "    Y_std.append(np.sqrt(np.diag(var)))\n",
    "Y_predicted = np.array(Y_predicted)\n",
    "Y_std = np.array(Y_std)\n",
    "fig, axes = plt.subplots(2,2, figsize=(7,7), sharex=True)\n",
    "for it, y0 in zip(Y_predicted, Y_validation):\n",
    "    axes[0,0].plot(cen,it[:Nc],color='r',alpha=.5)\n",
    "    axes[0,1].plot(cen,it[Nc:],color='r',alpha=.5)\n",
    "    axes[0,0].plot(cen,y0[:Nc],'b.',alpha=.5)\n",
    "    axes[0,1].plot(cen,y0[Nc:],'b.',alpha=.5)\n",
    "    \n",
    "    axes[1,0].plot(cen,it[:Nc]-y0[:Nc],color='r',alpha=.5)\n",
    "    axes[1,1].plot(cen,it[Nc:]-y0[Nc:],color='r',alpha=.5)\n",
    "    #axes[1,0].set_ylim(0,2)\n",
    "   # axes[1,1].set_ylim(0,2)\n",
    "\n",
    "labels = r\"$dN/d\\eta$\", r\"$v_2$\", r\"$\", r\"$dN/d\\eta$: pred-true\", r\"$v_2$: pred-true\"\n",
    "for ax, label in zip(axes.flatten(), labels):\n",
    "    ax.set_xlabel(\"Centrality(%)\")\n",
    "    ax.set_ylabel(label)\n",
    "plt.tight_layout(True)"
   ]
  },
  {
   "cell_type": "code",
   "execution_count": 201,
   "metadata": {},
   "outputs": [
    {
     "data": {
      "text/plain": [
       "Text(0, 0.5, 'P(d)')"
      ]
     },
     "execution_count": 201,
     "metadata": {},
     "output_type": "execute_result"
    },
    {
     "data": {
      "image/png": "[encoded data removed]",
      "text/plain": [
       "<Figure size 432x288 with 1 Axes>"
      ]
     },
     "metadata": {
      "needs_background": "light"
     },
     "output_type": "display_data"
    }
   ],
   "source": [
    "# A self-normalized check\n",
    "normalized_discrepancy = ((Y_predicted - Y_validation)/Y_std).flatten()\n",
    "_ = plt.hist(normalized_discrepancy, bins=31, density=True)\n",
    "x = np.linspace(-3,3,101)\n",
    "plt.plot(x, np.exp(-x**2)/np.sqrt(2*np.pi),'r-')\n",
    "plt.xlabel(r\"$d=\\frac{y_{\\rm emulator}-y_{\\rm truth}}{\\delta y_{\\rm emulator}}$\", fontsize=15)\n",
    "plt.ylabel(r\"P(d)\", fontsize=15)"
   ]
  },
  {
   "cell_type": "markdown",
   "metadata": {},
   "source": [
    "### 5. Bayesian parameter inference"
   ]
  },
  {
   "cell_type": "code",
   "execution_count": 202,
   "metadata": {},
   "outputs": [],
   "source": [
    "def log_prior(model_parameters):\n",
    "    \"\"\"Evaluvate the prior at model prameter values. \n",
    "    If all parameters are inside bounds function will return 0 otherwise -inf\"\"\"\n",
    "    X = np.array(model_parameters).reshape(1,-1)\n",
    "    lower = np.all(X >= design_min)\n",
    "    upper = np.all(X <= design_max)\n",
    "    if (lower and upper):\n",
    "        lp=0\n",
    "    # lp = np.log(st.beta.pdf(X,5,1,dsgn_min_ut.reshape(1,-1),(dsgn_max_ut-dsgn_min_ut).reshape(1,-1))).sum()\n",
    "    else:\n",
    "        lp = -np.inf\n",
    "    return lp\n",
    "# >>> note informative prior"
   ]
  },
  {
   "cell_type": "code",
   "execution_count": 203,
   "metadata": {},
   "outputs": [],
   "source": [
    "def mvn_loglike(y, cov):\n",
    "    \"\"\"\n",
    "    Evaluate the multivariate-normal log-likelihood for difference vector `y`\n",
    "    and covariance matrix `cov`:\n",
    "\n",
    "        log_p = -1/2*[(y^T).(C^-1).y + log(det(C))] + const.\n",
    "\n",
    "    The likelihood is NOT NORMALIZED, since this does not affect MCMC.  The\n",
    "    normalization const = -n/2*log(2*pi), where n is the dimensionality.\n",
    "\n",
    "    Arguments `y` and `cov` MUST be np.arrays with dtype == float64 and shapes\n",
    "    (n) and (n, n), respectively.  These requirements are NOT CHECKED.\n",
    "\n",
    "    The calculation follows algorithm 2.1 in Rasmussen and Williams (Gaussian\n",
    "    Processes for Machine Learning).\n",
    "\n",
    "    \"\"\"\n",
    "    # Compute the Cholesky decomposition of the covariance.\n",
    "    # Use bare LAPACK function to avoid scipy.linalg wrapper overhead.\n",
    "    L, info = lapack.dpotrf(cov, clean=False)\n",
    "\n",
    "    if info < 0:\n",
    "        raise ValueError(\n",
    "            'lapack dpotrf error: '\n",
    "            'the {}-th argument had an illegal value'.format(-info)\n",
    "        )\n",
    "    elif info < 0:\n",
    "        raise np.linalg.LinAlgError(\n",
    "            'lapack dpotrf error: '\n",
    "            'the leading minor of order {} is not positive definite'\n",
    "            .format(info)\n",
    "        )\n",
    "\n",
    "    # Solve for alpha = cov^-1.y using the Cholesky decomp.\n",
    "    alpha, info = lapack.dpotrs(L, y)\n",
    "\n",
    "    if info != 0:\n",
    "        raise ValueError(\n",
    "            'lapack dpotrs error: '\n",
    "            'the {}-th argument had an illegal value'.format(-info)\n",
    "         )\n",
    "\n",
    "    if np.all(L.diagonal()>0):\n",
    "        return -.5*np.dot(y, alpha) - np.log(L.diagonal()).sum()\n",
    "    else:\n",
    "        return -.5*np.dot(y, alpha) - np.log(np.abs(L.diagonal())).sum()\n",
    "        print(L.diagonal())\n",
    "        raise ValueError(\n",
    "            'L has negative values on diagonal {}'.format(L.diagonal())\n",
    "        )"
   ]
  },
  {
   "cell_type": "code",
   "execution_count": 204,
   "metadata": {},
   "outputs": [],
   "source": [
    "# Covariance truncation error from PC is not yet included\n",
    "def log_posterior(model_parameters):\n",
    "    mn, var = predict_observables(model_parameters)\n",
    "    delta_y = mn - y_exp.reshape(1,-1)\n",
    "    delta_y = delta_y.flatten()   \n",
    "    total_var = var + y_exp_variance\n",
    "    return log_prior(model_parameters) + mvn_loglike(delta_y,total_var)"
   ]
  },
  {
   "cell_type": "code",
   "execution_count": 205,
   "metadata": {},
   "outputs": [
    {
     "name": "stdout",
     "output_type": "stream",
     "text": [
      "3.0.2\n"
     ]
    }
   ],
   "source": [
    "#log_posterior(MAP_params['Pb-Pb-2760'])\n",
    "print(emcee.__version__)"
   ]
  },
  {
   "cell_type": "code",
   "execution_count": null,
   "metadata": {},
   "outputs": [
    {
     "name": "stdout",
     "output_type": "stream",
     "text": [
      "MCMC sampling using emcee (affine-invariant ensamble sampler) with 50 walkers\n"
     ]
    },
    {
     "name": "stderr",
     "output_type": "stream",
     "text": [
      "\r",
      "  0%|          | 0/500 [00:00<?, ?it/s]"
     ]
    },
    {
     "name": "stdout",
     "output_type": "stream",
     "text": [
      "burn in sampling started\n",
      "burn was true, going to burnin\n"
     ]
    },
    {
     "name": "stderr",
     "output_type": "stream",
     "text": [
      "100%|██████████| 500/500 [00:19<00:00, 25.35it/s]\n",
      "  0%|          | 3/2000 [00:00<01:19, 25.19it/s]"
     ]
    },
    {
     "name": "stdout",
     "output_type": "stream",
     "text": [
      "Mean acceptance fraction: 0.270 (in total 25000 steps)\n",
      "Burn in completed.\n",
      "Now running the samples\n"
     ]
    },
    {
     "name": "stderr",
     "output_type": "stream",
     "text": [
      " 75%|███████▍  | 1493/2000 [00:48<00:15, 31.76it/s]"
     ]
    }
   ],
   "source": [
    "do_mcmc = True\n",
    "\n",
    "Burn=True\n",
    "from multiprocessing import Pool\n",
    "ndim = Xdim  # number of parameters in the model\n",
    "nwalkers = 10*Xdim  # number of MCMC walkers\n",
    "nburn = 500 # \"burn-in\" period to let chains stabilize\n",
    "nsteps = 2000  # number of MCMC steps to take\n",
    "filename = data_path(name+\".h5\")\n",
    "\n",
    "if do_mcmc==True:\n",
    "    #backend = emcee.backends.HDFBackend(filename)\n",
    "    starting_guesses = design_min + (design_max - design_min) * np.random.rand(nwalkers, ndim)\n",
    "    #print(starting_guesses)\n",
    "    print(\"MCMC sampling using emcee (affine-invariant ensamble sampler) with {0} walkers\".format(nwalkers))\n",
    "    with Pool() as pool:\n",
    "        sampler = emcee.EnsembleSampler(nwalkers, ndim, log_posterior)#, pool=pool, backend=backend)\n",
    "        if Burn==True:\n",
    "            print('burn in sampling started')    \n",
    "            #backend.reset(nwalkers, ndim)\n",
    "            print('burn was true, going to burnin')\n",
    "            pos = sampler.run_mcmc(starting_guesses, nburn, progress=True, store=True)\n",
    "            print(\"Mean acceptance fraction: {0:.3f} (in total {1} steps)\".format(\n",
    "                        np.mean(sampler.acceptance_fraction), nwalkers*nburn))\n",
    "            print('Burn in completed.')\n",
    "        print(\"Now running the samples\")\n",
    "        sampler.run_mcmc(initial_state=None, nsteps=nsteps, progress=True, tune=False)  \n",
    "        print(\"Mean acceptance fraction: {0:.3f} (in total {1} steps)\".format(\n",
    "                        np.mean(sampler.acceptance_fraction), nwalkers*nsteps))\n",
    "        \n",
    "        # discard burn-in points and flatten the walkers; the shape of samples is (nwalkers*nsteps, ndim)\n",
    "        #samples = backend.get_chain(flat=True, discard=nburn)\n",
    "        samples = sampler.get_chain(flat=True, discard=nburn)\n",
    "        samples_df = pd.DataFrame(samples, columns=model_param_dsgn)\n",
    "        samples_df.to_csv(data_path('ChainForSImpleModel'), index=False)\n",
    "else:\n",
    "    #df1=h5py.File(filename,mode='r')\n",
    "    print('Loading chain from disk')\n",
    "    samples_df=pd.read_csv(data_path('ChainForSImpleModel'))\n",
    "    samples= samples_df.values"
   ]
  },
  {
   "cell_type": "code",
   "execution_count": null,
   "metadata": {},
   "outputs": [],
   "source": [
    "samples_df.head()\n",
    "samples_df.shape"
   ]
  },
  {
   "cell_type": "markdown",
   "metadata": {},
   "source": [
    "#### Find MAP"
   ]
  },
  {
   "cell_type": "code",
   "execution_count": null,
   "metadata": {},
   "outputs": [],
   "source": [
    "find_map_param = True\n",
    "if find_map_param == True:\n",
    "    bounds=[(a,b) for (a,b) in zip(design_min,design_max)]\n",
    "    rslt = optimize.differential_evolution(lambda x: -log_posterior(x), \n",
    "                                           bounds=bounds,\n",
    "                                          #disp=True,\n",
    "                                          tol=1e-9,\n",
    "                                         )\n",
    "    print(rslt.x)"
   ]
  },
  {
   "cell_type": "code",
   "execution_count": null,
   "metadata": {},
   "outputs": [],
   "source": [
    "map_values_saved = rslt.x"
   ]
  },
  {
   "cell_type": "code",
   "execution_count": null,
   "metadata": {},
   "outputs": [],
   "source": [
    "#np.divide(map_values_saved,MAP_params['Pb-Pb-2760'])"
   ]
  },
  {
   "cell_type": "code",
   "execution_count": null,
   "metadata": {},
   "outputs": [],
   "source": [
    "sns.color_palette('bright')"
   ]
  },
  {
   "cell_type": "code",
   "execution_count": null,
   "metadata": {},
   "outputs": [],
   "source": [
    "map_parameters = map_values_saved.flatten()\n",
    "g = sns.PairGrid(samples_df.iloc[:,:], corner=True, diag_sharey=False)\n",
    "g.map_lower(sns.histplot, bins=100, color=sns.color_palette()[0])\n",
    "g.map_diag(sns.kdeplot, linewidth=2, shade=True, color=sns.color_palette()[-1])\n",
    "for n in range(Xdim):\n",
    "    ax=g.axes[n][n]\n",
    "    ax.axvline(x=map_parameters[n], ls='--', c=sns.color_palette()[9], label='MAP')\n",
    "    ax.axvline(x=true_values[n], ls='-', c=sns.color_palette()[3], label='Truth')\n",
    "    ax.text(0,0.9,s= f'{map_parameters[n]:.2f}', transform=ax.transAxes, color=sns.color_palette()[9], fontsize=12)\n",
    "    ax.text(0,0.8,s= f'{true_values[n]:.2f}', transform=ax.transAxes, color=sns.color_palette()[3], fontsize=12)\n",
    "g.axes[1,1].legend(loc='best', fontsize=10)\n",
    "for i in range(Xdim):\n",
    "    for j in range(i+1):\n",
    "        g.axes[i,j].set_xlim(*ranges[j])\n",
    "        if i==j:\n",
    "            g.axes[i,j].set_ylim(*ranges[i])\n",
    "            \n",
    "        else:\n",
    "            g.axes[i,j].set_ylim(ymax=0)\n",
    "plt.tight_layout()\n",
    "save_fig(name+\"partial\")\n",
    "plt.show()"
   ]
  },
  {
   "cell_type": "code",
   "execution_count": null,
   "metadata": {},
   "outputs": [],
   "source": [
    "Tt = np.linspace(0.13, 0.6, 100)\n",
    "Nsamples = 10000\n",
    "Nthin = samples_df.size//Nsamples\n",
    "# prior samples of eta/s(T)\n",
    "prior_etas = np.array([\n",
    "        etas(Tt, row[1:]) for row in ((ranges[:,1]-ranges[:,0])*np.random.rand(Nsamples,Xdim)+ranges[:,0])\n",
    "])\n",
    "# posterior samples of eta/s(T)\n",
    "posterior_etas = np.array([\n",
    "        etas(Tt, row[1:]) for row in samples_df.iloc[::Nthin,:].values\n",
    "])\n",
    "\n",
    "fig, ax = plt.subplots(nrows=1, ncols=1, figsize=(6,5),\n",
    "                      sharex=False, sharey=False, \n",
    "                      constrained_layout=True)\n",
    "fig.suptitle(\"Posterior v.s. Prior\", wrap=True)\n",
    "\n",
    "# plot posterior, display 30%, 60%, and 90% credible limits\n",
    "CLbins = [30,60,90]\n",
    "for CL, opacity in zip(CLbins, [.8,.6,.4]):\n",
    "    lower, upper = np.percentile(posterior_etas, [50-CL/2., 50+CL/2.], axis=0)\n",
    "    ax.fill_between(Tt,lower, upper,color=sns.color_palette()[1], alpha=opacity, label='{:d}% Posterior'.format(CL))\n",
    "    \n",
    "# plot prior, display 30%, 60%, 90%, and 100% credible limits\n",
    "CLbins = [30,60,90,100]\n",
    "for CL, opacity in zip(CLbins, [.25,.2,.15,.1]):\n",
    "    lower, upper = np.percentile(prior_etas, [50-CL/2., 50+CL/2.], axis=0)\n",
    "    ax.fill_between(Tt,lower, upper,color=sns.color_palette()[0], alpha=opacity, label='{:d}% Prior'.format(CL))\n",
    "\n",
    "ax.plot(Tt, etas(Tt, true_values[1:]),'-', color=plt.cm.Reds(.4), lw=3, label='Truth')\n",
    "ax.plot(Tt, etas(Tt, map_parameters[1:]),'--', color=plt.cm.Blues(.4), lw=3, label='MAP')\n",
    "\n",
    "ax.legend(loc='upper left', ncol=2)\n",
    "ax.set_ylim(0,.8)\n",
    "ax.set_xlabel('T [GeV]')\n",
    "ax.set_ylabel('$\\eta/s$')\n",
    "save_fig('shear_simple_model')"
   ]
  },
  {
   "cell_type": "markdown",
   "metadata": {},
   "source": [
    "Finally, it is always important to check if the observables are well described.\n",
    "It is possible that a poorly performing model produce a tightly-constrained posterior."
   ]
  },
  {
   "cell_type": "code",
   "execution_count": null,
   "metadata": {},
   "outputs": [],
   "source": [
    "Nsamples = 1000\n",
    "Nthin = samples_df.size//Nsamples\n",
    "# prior parameter samples\n",
    "prior_params = (ranges[:,1]-ranges[:,0])*np.random.rand(Nsamples,Xdim) + ranges[:,0]\n",
    "# posterior parameter samples \n",
    "posterior_params =  samples_df.iloc[::Nthin,:].values\n",
    "\n",
    "prior_obs = [predict_observables(p)[0][0] for p in prior_params]\n",
    "posterior_obs = [predict_observables(p)[0][0] for p in posterior_params]\n"
   ]
  },
  {
   "cell_type": "markdown",
   "metadata": {},
   "source": [
    "#### Define temperature dependent viscosity functions"
   ]
  },
  {
   "cell_type": "code",
   "execution_count": null,
   "metadata": {},
   "outputs": [],
   "source": [
    "fig, axes = plt.subplots(2,2, figsize=(6,6), sharex=True)\n",
    "Nc = len(cen)\n",
    "# plot posterior, display 30%, 60%, and 90% credible limits\n",
    "CLbins = [30,60,90]\n",
    "for CL, opacity in zip(CLbins, [.8,.6,.4]):\n",
    "    lower, upper = np.percentile(posterior_obs, [50-CL/2., 50+CL/2.], axis=0)\n",
    "    axes[0,0].fill_between(cen, lower[:Nc], upper[:Nc], color=sns.color_palette()[1], \n",
    "                        alpha=opacity, label='{:d}% Posterior'.format(CL))\n",
    "    axes[0,1].fill_between(cen, lower[Nc:], upper[Nc:], color=sns.color_palette()[1], \n",
    "                        alpha=opacity, label='{:d}% Posterior'.format(CL)) \n",
    "    axes[1,0].fill_between(cen, lower[:Nc]/Mult, upper[:Nc]/Mult, color=sns.color_palette()[1], \n",
    "                        alpha=opacity, label='{:d}% Posterior'.format(CL))\n",
    "    axes[1,1].fill_between(cen, lower[Nc:]/v2, upper[Nc:]/v2, color=sns.color_palette()[1], \n",
    "                        alpha=opacity, label='{:d}% Posterior'.format(CL)) \n",
    "# plot prior, display 30%, 60%, 90%, and 100% credible limits\n",
    "CLbins = [30,60,90,100]\n",
    "for CL, opacity in zip(CLbins, [.25,.2,.15,.1]):\n",
    "    lower, upper = np.percentile(prior_obs, [50-CL/2., 50+CL/2.], axis=0)\n",
    "    axes[0,0].fill_between(cen, lower[:Nc], upper[:Nc], color=sns.color_palette()[0], \n",
    "                        alpha=opacity, label='{:d}% Prior'.format(CL))\n",
    "    axes[0,1].fill_between(cen, lower[Nc:], upper[Nc:], color=sns.color_palette()[0], \n",
    "                        alpha=opacity, label='{:d}% Prior'.format(CL)) \n",
    "    axes[1,0].fill_between(cen, lower[:Nc]/Mult, upper[:Nc]/Mult, color=sns.color_palette()[0], \n",
    "                        alpha=opacity, label='{:d}% Prior'.format(CL))\n",
    "    axes[1,1].fill_between(cen, lower[Nc:]/v2, upper[Nc:]/v2, color=sns.color_palette()[0], \n",
    "                        alpha=opacity, label='{:d}% Prior'.format(CL)) \n",
    "    \n",
    "for ax,y,name in zip(axes[0], \n",
    "                    [Mult, v2],\n",
    "                    [r\"$N_{\\rm ch}$\", r\"$v_2$\"]):\n",
    "    ax.errorbar(cen, y, yerr=y*.05, fmt='k.')\n",
    "    ax.set_ylabel(name)\n",
    "    ax.set_xlabel(\"Centrality (%)\")\n",
    "    \n",
    "for ax,y,name in zip(axes[1], \n",
    "                    [Mult, v2],\n",
    "                    [\"Ratio to pseudo-data$\"]*2):\n",
    "    ax.errorbar(cen, y/y, yerr=y/y*.05, fmt='k.')\n",
    "    ax.set_ylabel(name)\n",
    "    ax.set_xlabel(\"Centrality (%)\")\n",
    "axes[0,0].semilogy()\n",
    "axes[0,1].semilogy()\n",
    "axes[1,0].set_ylim(0,2)\n",
    "axes[1,1].set_ylim(0,2)\n",
    "plt.tight_layout(True)"
   ]
  },
  {
   "cell_type": "code",
   "execution_count": null,
   "metadata": {},
   "outputs": [],
   "source": []
  },
  {
   "cell_type": "code",
   "execution_count": null,
   "metadata": {},
   "outputs": [],
   "source": []
  },
  {
   "cell_type": "markdown",
   "metadata": {},
   "source": [
    "# To do list\n",
    "> Emulator validation\n",
    "\n",
    "> Closure tests\n",
    "\n",
    "> Observable predictions from MAP\n",
    "\n",
    "> Including other systems in the parameter estimation\n",
    "\n",
    "> Tests for MCMC convergence\n",
    "\n",
    "> Bayesian evidence calculation\n",
    "\n",
    "> Repeat the Analysis for different model choices\n",
    "\n",
    "> Bayesian Model Averaging\n"
   ]
  },
  {
   "cell_type": "code",
   "execution_count": null,
   "metadata": {},
   "outputs": [],
   "source": []
  }
 ],
 "metadata": {
  "kernelspec": {
   "display_name": "Python 3",
   "language": "python",
   "name": "python3"
  },
  "language_info": {
   "codemirror_mode": {
    "name": "ipython",
    "version": 3
   },
   "file_extension": ".py",
   "mimetype": "text/x-python",
   "name": "python",
   "nbconvert_exporter": "python",
   "pygments_lexer": "ipython3",
   "version": "3.7.3"
  }
 },
 "nbformat": 4,
 "nbformat_minor": 4
}
