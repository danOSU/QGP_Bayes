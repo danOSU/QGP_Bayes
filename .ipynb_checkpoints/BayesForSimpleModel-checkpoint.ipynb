{
 "cells": [
  {
   "cell_type": "markdown",
   "metadata": {},
   "source": [
    "## A Bayesian parameter inference of a **Simple hydro-response model**.\n",
    ">**1. Loading simulation data**\n",
    "    - This section show how to load simulation data from the disk. Anyone who wish to use the code to do another Bayesian analysis for relativistic heavy ion collision should do minor change to this section that suits their model and simulation data.\n",
    "            --Python modules used\n",
    "                - pandas\n",
    "    \n",
    ">**2. Preprocessing of the simulation data**\n",
    "    - We perform a scaling transform and then a Principal Component Analysis (PCA) to reduce the dimensions of the data. We keep only 10 PCs for the next steps of the analysis.\n",
    "            --Python modules used\n",
    "                - numpy, sklearn\n",
    "                \n",
    ">**3. Load priors and experimental data**\n",
    "    - We use uniform priors and load the bounds for the priors from a file saved on the disk. Relevant experimental data is also loaded from the disk. A new analysis with new data will have to make changes to this part of the code. \n",
    "            --Python modules used\n",
    "                - pandas\n",
    "\n",
    ">**4. Building Emulators**\n",
    "    - Since the simulations are computationally expensive we need surrogate models that can be trained on limited number of points and then used to predict the simulation output at any given point. For this purpose we use Gaussian Processes and they also give the uncertainty in the prediction which is very crucial for the reliability of the Bayesian parameter extraction method. \n",
    "            --Python modules used\n",
    "                - sklearn Gaussian Processors, numpy\n",
    "                \n",
    ">**5. Bayesian Parameter Estimation**\n",
    "    - This is where everything comes together and magic happens! The Bayes theorem is used to find the posterior of the model parameters using the experimental data.\n",
    "            --Python modules used\n",
    "                - pandas, numpy, seaborn"
   ]
  },
  {
   "cell_type": "code",
   "execution_count": 1,
   "metadata": {},
   "outputs": [],
   "source": [
    "name=\"Simple_bayes\""
   ]
  },
  {
   "cell_type": "code",
   "execution_count": 2,
   "metadata": {},
   "outputs": [],
   "source": [
    "#import GPy\n",
    "import subprocess\n",
    "import os\n",
    "import pickle\n",
    "import numpy as np\n",
    "import seaborn as sns\n",
    "import pandas as pd\n",
    "import math\n",
    "import matplotlib.pyplot as plt\n",
    "\n",
    "from sklearn.decomposition import PCA\n",
    "from numpy.linalg import inv\n",
    "from sklearn.preprocessing import StandardScaler\n",
    "from sklearn.gaussian_process import GaussianProcessRegressor as gpr\n",
    "from sklearn.gaussian_process import kernels as krnl\n",
    "import scipy.stats as st\n",
    "from scipy import optimize\n",
    "# >>> a python implementation of Latin Hypercube Design\n",
    "from pyDOE import lhs\n",
    "\n",
    "import emcee\n",
    "import ptemcee\n",
    "import h5py\n",
    "from scipy.linalg import lapack\n",
    "from multiprocessing import Pool\n",
    "from multiprocessing import cpu_count\n",
    "\n",
    "sns.set(\"notebook\")\n",
    "\n",
    "#Saved emulator name\n",
    "EMU='simple_emu.dat'\n",
    "# Where to save the figures and data files\n",
    "PROJECT_ROOT_DIR = \"Results\"\n",
    "FIGURE_ID = \"Results/FigureFiles\"\n",
    "DATA_ID = \"DataFiles/\""
   ]
  },
  {
   "cell_type": "markdown",
   "metadata": {},
   "source": [
    "### A toy model to demonstrate basic ideas of bulk medium calibraiton"
   ]
  },
  {
   "cell_type": "markdown",
   "metadata": {},
   "source": [
    "#### Bulk models:\n",
    "1. Initial condition: initial condition energy density, geometry, $e(x_\\perp)$\n",
    "2. Dynamical models (JETSCAPE):\n",
    "   * Preequilbirum evolution\n",
    "   * Hydrodynamic evolution (take $\\eta/s(T), \\zeta/s(T)$ as input)\n",
    "   * Particlziation + hadronic scatterings / decays\n",
    "   \n",
    "Dynamical evolution translates initial condition into final-state observables such as\n",
    "   * particle multiplicity\n",
    "   * anisotropy flows and correlations\n",
    "   * ...\n",
    "\n",
    "In this exercise, we will use pregenerated TRENTo results of $E_T$, $\\langle e\\rangle$, and $\\epsilon_2$ v.s. Centrality to represent an initial condition. Then, instead of using the full JETSCAPE bulk simulation, we will use a toy model that will demonstrate a few basic but important feautre of the full analysis.\n"
   ]
  },
  {
   "cell_type": "markdown",
   "metadata": {},
   "source": [
    "#### Set up the toy problem\n",
    "\n",
    "##### Target quantity $\\eta/s(T)$: \n",
    "We would like to extract the temperature-dependent shear viscosity that is parameterized as \n",
    "$$\\frac{\\eta}{s}(T) = \\color{red}{\\left(\\frac{\\eta}{s}\\right)_A } + (T/{\\rm GeV}-0.15) \\color{red}{\\left(\\frac{\\eta}{s}\\right)_B }$$\n",
    "\n",
    "\n",
    "Suppose any initional condition model has provided as $dE_T/d\\eta_s$ ($E_T$ for short), $\\frac{de}{\\tau_0d\\eta_s dx^2}$ ($e_0$ for short), and $\\epsilon_2$ v.s. centraliy.\n",
    "\n",
    "We assume they are mapped to the final-state charged particle multiplictiy and elliptic flow by the following response:\n",
    "\n",
    "$$\n",
    "N_{\\rm ch} = {\\color{red} n} \\times E_T\\\\\n",
    "v_2 = \\epsilon_2 \\times \\exp\\left\\{-\\frac{(\\eta/s)_{\\rm eff}}{\\times N^{1/3}_{\\rm ch}/60}\\right\\}\n",
    "$$\n",
    "\n",
    "Here, let's assume the damping effective on $v_2$ due to viscosity is only sensitive to a time-averaged effective (https://arxiv.org/abs/1912.06287) $$(\\eta/s)_{\\rm eff} = \\frac{\\int_{T_c}^{T_0} T \\left(\\eta/s\\right)_T dT }{\\int_{T_c}^{T_0} T dT } $$\n"
   ]
  },
  {
   "cell_type": "code",
   "execution_count": 3,
   "metadata": {},
   "outputs": [],
   "source": [
    "def Load_Initial_Conditions(Run_TRENTo=False, Nevents=10000):\n",
    "    if not Run_TRENTo:\n",
    "        print(\"Loading pregenerted collision geometry information\")\n",
    "        cen, cenL, cenU, ET, ed, e2, e3 = np.loadtxt(DATA_ID+\"/Geometry_info.dat\").T\n",
    "    else:\n",
    "        TRENTo_dtype=[('idx',np.int,1), ('b', np.float,1),\n",
    "              ('npart', np.int,1), ('area', np.float, 1), \n",
    "              ('ET', np.float,1),\n",
    "              ('e2', np.float,1), ('e3', np.float,1),  \n",
    "              ('e4', np.float,1), ('e5', np.float,1),  \n",
    "             ]\n",
    "        print(\"Generating trento Pb+Pb with default params\")\n",
    "        proc = subprocess.run(\n",
    "                ['trento', 'Pb','Pb', '{:d}'.format(Nevents)],\n",
    "                stdout=subprocess.PIPE\n",
    "            )\n",
    "        results = np.empty(Nevents, dtype=TRENTo_dtype)\n",
    "        for l, it in zip(proc.stdout.splitlines(), results):\n",
    "            for dtype, value in zip(TRENTo_dtype, l.split()):\n",
    "                it[dtype[0]] = value\n",
    "        # sort by ET\n",
    "        sorted_events = results[np.argsort(results['ET'])[::-1]]\n",
    "        cenbin = np.array([0,5,10,20,30,40,50,60,70]) \n",
    "        cen = (cenbin[1:] + cenbin[:-1])/2.\n",
    "        Ibin = (cenbin*Nevents/100.).astype(int)\n",
    "        ET = np.array([sorted_events['ET'][il:ih].mean() for il, ih in zip(Ibin[:-1], Ibin[1:]) ])\n",
    "        Area = np.array([sorted_events['area'][il:ih].mean() for il, ih in zip(Ibin[:-1], Ibin[1:]) ])\n",
    "        e2 = np.array([sorted_events['e2'][il:ih].mean() for il, ih in zip(Ibin[:-1], Ibin[1:]) ])\n",
    "        e3 = np.array([sorted_events['e3'][il:ih].mean() for il, ih in zip(Ibin[:-1], Ibin[1:]) ])\n",
    "        ed = ET/Area/5.076**2/20\n",
    "        with open(DATA_ID+\"Geometry_info.dat\", 'w') as f:\n",
    "            f.write(\"#cen\\tcenL\\tcenU\\tET\\te2\\te3\\n\")\n",
    "            for ic, icl, icu, iet, ied, ie2, ie3 in zip(cen, cenbin[:-1], cenbin[1:], ET, ed, e2, e3):\n",
    "                f.write((\"{:1.1f}\\t\"*3+\"{:1.4f}\\t\"*4+'\\n').format(ic,icl,icu,iet,ied, ie2,ie3))\n",
    "\n",
    "    return cen, ET, ed, e2, e3"
   ]
  },
  {
   "cell_type": "code",
   "execution_count": 4,
   "metadata": {},
   "outputs": [
    {
     "name": "stdout",
     "output_type": "stream",
     "text": [
      "Loading pregenerted collision geometry information\n"
     ]
    }
   ],
   "source": [
    "#cen, ET, ed, e2, e3 = Load_Initial_Conditions(Run_TRENTo=True)\n",
    "cen, ET, ed, e2, e3 = Load_Initial_Conditions(Run_TRENTo=False)"
   ]
  },
  {
   "cell_type": "code",
   "execution_count": 42,
   "metadata": {},
   "outputs": [
    {
     "data": {
      "image/png": "[encoded data removed]",
      "text/plain": [
       "<Figure size 720x252 with 3 Axes>"
      ]
     },
     "metadata": {
      "needs_background": "light"
     },
     "output_type": "display_data"
    }
   ],
   "source": [
    "fig, axes = plt.subplots(1,3, figsize=(10,3.5), sharex=True)\n",
    "for ax,y,name in zip(axes, \n",
    "                    [ET, ed, e2],\n",
    "                    [r\"Unnormed $N_{\\rm ch}$\", r\"Unnormed $T^3(\\tau_0)$\", r\"$e_2$\"]):\n",
    "    ax.plot(cen, y, 'kD')\n",
    "    ax.set_title(name)\n",
    "    ax.set_xlabel(\"Centrality (%)\")\n",
    "    ax.set_ylim(ymin=0, ymax=y.max()*1.2)\n",
    "plt.tight_layout(True)"
   ]
  },
  {
   "cell_type": "code",
   "execution_count": 271,
   "metadata": {},
   "outputs": [],
   "source": [
    "# Toy model of a hydro-like repsonse to eccentricity\n",
    "from scipy.integrate import quad\n",
    "\n",
    "@np.vectorize\n",
    "def etas(T, etasA, etasB):\n",
    "    res = etasA + etasB*(T-0.15)\n",
    "    return np.max([res, 0.])\n",
    "\n",
    "Tpower = 1\n",
    "\n",
    "@np.vectorize\n",
    "def etas_eff(Tmax, etasA, etasB):\n",
    "    #print(Tmax)\n",
    "    N = quad(lambda T: T**Tpower * etas(T, etasA, etasB), 0.15, Tmax)[0]\n",
    "    D = quad(lambda T: T**Tpower, 0.15, Tmax)[0]\n",
    "    return N/D\n",
    "\n",
    "def ToyModel(norm, etasA, etasB):\n",
    "    etas_avg = np.array([etas_eff((norm*ied)**(1./3.), etasA, etasB) for ied in ed])\n",
    "    #print(etas_avg)\n",
    "    mult = norm * ET * (1. + etas_avg)\n",
    "    v2 = e2 * np.exp(- 60 * etas_avg / (mult)**.3333 ) \n",
    "    return mult, v2 #, v3"
   ]
  },
  {
   "cell_type": "code",
   "execution_count": 272,
   "metadata": {},
   "outputs": [],
   "source": [
    "# Pseudo data generated with \"true\" parameters\n",
    "etasA0 = 0.08\n",
    "etasB0 = .5\n",
    "norm0 = 9\n",
    "Mult, v2 = ToyModel(norm0, etasA0, etasB0)\n",
    "\n",
    "y_exp = np.concatenate([Mult, v2])\n",
    "y_exp *= (1. + np.random.normal(0,.05,len(y_exp)))\n",
    "y_exp_variance = (y_exp*.05)**2\n",
    "Ydim = len(y_exp)"
   ]
  },
  {
   "cell_type": "code",
   "execution_count": 273,
   "metadata": {},
   "outputs": [
    {
     "data": {
      "image/png": "[encoded data removed]",
      "text/plain": [
       "<Figure size 432x216 with 2 Axes>"
      ]
     },
     "metadata": {
      "needs_background": "light"
     },
     "output_type": "display_data"
    }
   ],
   "source": [
    "fig, axes = plt.subplots(1,2, figsize=(6,3), sharex=True)\n",
    "for ax,y,name in zip(axes, \n",
    "                    [Mult, v2],\n",
    "                    [r\"$N_{\\rm ch}$\", r\"$v_2$\"]):\n",
    "    ax.errorbar(cen, y, yerr=y*.05, fmt='k.')\n",
    "    ax.set_ylabel(name)\n",
    "    ax.set_xlabel(\"Centrality (%)\")\n",
    "    ax.set_ylim(ymin=0, ymax=y.max()*1.2)\n",
    "plt.tight_layout(True)"
   ]
  },
  {
   "cell_type": "markdown",
   "metadata": {},
   "source": [
    "### 1. Model data\n",
    "\n",
    "#### option 1: load from pregenerated data files\n",
    "#### option 2: run the simple model"
   ]
  },
  {
   "cell_type": "code",
   "execution_count": 274,
   "metadata": {},
   "outputs": [],
   "source": [
    "if not os.path.exists(PROJECT_ROOT_DIR):\n",
    "    os.mkdir(PROJECT_ROOT_DIR)\n",
    "\n",
    "if not os.path.exists(FIGURE_ID):\n",
    "    os.makedirs(FIGURE_ID)\n",
    "\n",
    "if not os.path.exists(DATA_ID):\n",
    "    os.makedirs(DATA_ID)\n",
    "\n",
    "def image_path(fig_id):\n",
    "    return os.path.join(FIGURE_ID, fig_id)\n",
    "\n",
    "def data_path(dat_id):\n",
    "    return os.path.join(DATA_ID, dat_id)\n",
    "\n",
    "def save_fig(fig_id):\n",
    "    plt.savefig(image_path(fig_id) + \".png\", format='png')"
   ]
  },
  {
   "cell_type": "code",
   "execution_count": 323,
   "metadata": {},
   "outputs": [
    {
     "data": {
      "text/plain": [
       "<matplotlib.collections.PathCollection at 0x7ff498af8d30>"
      ]
     },
     "execution_count": 323,
     "metadata": {},
     "output_type": "execute_result"
    },
    {
     "data": {
      "image/png": "[encoded data removed]",
      "text/plain": [
       "<Figure size 432x288 with 1 Axes>"
      ]
     },
     "metadata": {
      "needs_background": "light"
     },
     "output_type": "display_data"
    }
   ],
   "source": [
    "# Design points\n",
    "#Model parameter names in Latex compatble form\n",
    "model_param_dsgn = ['$N$', '$\\eta/s(A)$', '$\\eta/s(B)$']\n",
    "Ndesign = 60\n",
    "ranges = np.array([[6,15],\n",
    "                   [0.02, 0.4],\n",
    "                   [-1, 2.0],\n",
    "                   ])\n",
    "Xdim = ranges.shape[0]\n",
    "unit = lhs(Xdim, samples=Ndesign, criterion='maximin')\n",
    "design = unit*(ranges[:,1]-ranges[:,0]) + ranges[:,0]\n",
    "#design = pd.read_csv(filepath_or_buffer=\"DataFiles/PbPb2760_design\")\n",
    "plt.scatter(design[:,0],design[:,1])"
   ]
  },
  {
   "cell_type": "code",
   "execution_count": 324,
   "metadata": {},
   "outputs": [],
   "source": [
    "#design.head()"
   ]
  },
  {
   "cell_type": "code",
   "execution_count": 325,
   "metadata": {},
   "outputs": [],
   "source": [
    "#Simulation outputs at the design points\n",
    "#simulation = pd.read_csv(filepath_or_buffer=\"DataFiles/PbPb2760_simulation\")\n",
    "simulation = np.array([np.concatenate(ToyModel(*param)) for param in design])"
   ]
  },
  {
   "cell_type": "code",
   "execution_count": 311,
   "metadata": {},
   "outputs": [],
   "source": [
    "#simulation.head()"
   ]
  },
  {
   "cell_type": "code",
   "execution_count": 326,
   "metadata": {},
   "outputs": [
    {
     "name": "stdout",
     "output_type": "stream",
     "text": [
      "Design shape:  (60, 3)\n",
      "Model output shape:  (60, 16)\n"
     ]
    },
    {
     "data": {
      "text/plain": [
       "<matplotlib.collections.PathCollection at 0x7ff4c03d1630>"
      ]
     },
     "execution_count": 326,
     "metadata": {},
     "output_type": "execute_result"
    },
    {
     "data": {
      "image/png": "[encoded data removed]",
      "text/plain": [
       "<Figure size 432x288 with 1 Axes>"
      ]
     },
     "metadata": {
      "needs_background": "light"
     },
     "output_type": "display_data"
    }
   ],
   "source": [
    "X = np.copy(design)#design.values\n",
    "Y = np.copy(simulation)#simulation.values\n",
    "print( \"Design shape: \", X.shape )\n",
    "print( \"Model output shape: \", Y.shape )\n",
    "\n",
    "Y[:,len(cen):] = np.log(Y[:,len(cen):])\n",
    "plt.scatter(Y[:,3], Y[:,-4])"
   ]
  },
  {
   "cell_type": "markdown",
   "metadata": {},
   "source": [
    "### 2. Preprocessing of simulation data."
   ]
  },
  {
   "cell_type": "code",
   "execution_count": 327,
   "metadata": {},
   "outputs": [],
   "source": [
    "#Scaling the data to be zero mean and unit variance for each feature\n",
    "SS  =  StandardScaler(copy=True)"
   ]
  },
  {
   "cell_type": "code",
   "execution_count": 328,
   "metadata": {},
   "outputs": [
    {
     "name": "stdout",
     "output_type": "stream",
     "text": [
      "shape of u (60, 60) shape of s (16,) shape of vh (16, 16)\n"
     ]
    }
   ],
   "source": [
    "#Singular Value decomposition\n",
    "u, s, vh = np.linalg.svd(SS.fit_transform(Y), full_matrices=True)\n",
    "print(f'shape of u {u.shape} shape of s {s.shape} shape of vh {vh.shape}')"
   ]
  },
  {
   "cell_type": "code",
   "execution_count": 329,
   "metadata": {},
   "outputs": [],
   "source": [
    "#whiten and project data to principal component axis (only keeping first 10 PCs)\n",
    "Npc = 3\n",
    "pc_tf_data=u[:,0:Npc] * math.sqrt(u.shape[0]-1)\n",
    "#Scale Transformation from PC space to original data space\n",
    "inverse_tf_matrix= np.diag(s[0:Npc]) @ vh[0:Npc,:] * SS.scale_.reshape(1,Ydim)/ math.sqrt(u.shape[0]-1)"
   ]
  },
  {
   "cell_type": "markdown",
   "metadata": {},
   "source": [
    "#### A check for consistency of our explicit PCA calculation from scikit-learn library PCA module.\n",
    "We need access to the scaling transform involved in PCA for uncertainty propagation of emulator predictions. And also it is needed to find the truncation error of keeping only the dominant PC of data. So we prefer to rather use explicit PCA using SVD rather than using the scikit-learn PCA module"
   ]
  },
  {
   "cell_type": "markdown",
   "metadata": {},
   "source": [
    "##### Check the PC transform"
   ]
  },
  {
   "cell_type": "code",
   "execution_count": 330,
   "metadata": {},
   "outputs": [
    {
     "name": "stdout",
     "output_type": "stream",
     "text": [
      "Transformed data shape (60, 3)\n"
     ]
    }
   ],
   "source": [
    "# White actually multiply each PC by sqrt of n_samples-1\n",
    "pca_analysis = PCA(n_components=Npc, whiten=True, svd_solver='auto')\n",
    "pca_analysis.fit(SS.fit_transform(Y))\n",
    "scikit_pc_tf_data=pca_analysis.transform(SS.fit_transform(Y))\n",
    "print(f'Transformed data shape {scikit_pc_tf_data.shape}')"
   ]
  },
  {
   "cell_type": "code",
   "execution_count": 331,
   "metadata": {},
   "outputs": [
    {
     "name": "stdout",
     "output_type": "stream",
     "text": [
      "Print True if the transformed data is same from SVD aproach and scikitlearn PCA methods\n",
      "True\n"
     ]
    }
   ],
   "source": [
    "#The sign difference is OK. That is why we only compare abs value of transformed Data\n",
    "#explanation https://stackoverflow.com/questions/44765682/in-sklearn-decomposition-pca-why-are-components-negative\n",
    "print(f'Print True if the transformed data is same from SVD aproach and scikit\\\n",
    "learn PCA methods\\n{np.allclose(np.abs(scikit_pc_tf_data),np.abs(pc_tf_data))}')"
   ]
  },
  {
   "cell_type": "markdown",
   "metadata": {},
   "source": [
    "##### Check inverse PC transform"
   ]
  },
  {
   "cell_type": "code",
   "execution_count": 332,
   "metadata": {},
   "outputs": [
    {
     "name": "stdout",
     "output_type": "stream",
     "text": [
      "Print True if the inverse transformed data is same from SVD aproach and scikitlearn PCA methods\n",
      "True\n"
     ]
    }
   ],
   "source": [
    "scikit_inverse_tf_data=SS.inverse_transform(pca_analysis.inverse_transform(scikit_pc_tf_data))\n",
    "inverse_tf_data=pc_tf_data @ inverse_tf_matrix + np.repeat([SS.mean_],repeats=Ndesign, axis=0)\n",
    "print(f'Print True if the inverse transformed data is same from SVD aproach and scikit\\\n",
    "learn PCA methods\\n{np.allclose(scikit_inverse_tf_data,inverse_tf_data)}')"
   ]
  },
  {
   "cell_type": "code",
   "execution_count": 333,
   "metadata": {},
   "outputs": [
    {
     "data": {
      "image/png": "[encoded data removed]",
      "text/plain": [
       "<Figure size 504x288 with 2 Axes>"
      ]
     },
     "metadata": {
      "needs_background": "light"
     },
     "output_type": "display_data"
    }
   ],
   "source": [
    "# print the explained raito of variance\n",
    "fig, (ax1, ax2) = plt.subplots(1,2,figsize=(7,4))\n",
    "importance = pca_analysis.explained_variance_\n",
    "cumulateive_importance = np.cumsum(importance)/np.sum(importance)\n",
    "idx = np.arange(1,1+len(importance))\n",
    "ax1.bar(idx,importance)\n",
    "ax1.set_xlabel(\"PC index\")\n",
    "ax1.set_ylabel(\"Variance\")\n",
    "ax2.bar(idx,cumulateive_importance)\n",
    "ax2.set_xlabel(r\"The first $n$ PC\")\n",
    "ax2.set_ylabel(\"Fraction of total variance\")\n",
    "plt.tight_layout(True)"
   ]
  },
  {
   "cell_type": "markdown",
   "metadata": {},
   "source": [
    "### 3. Load priors and experimental data."
   ]
  },
  {
   "cell_type": "code",
   "execution_count": 334,
   "metadata": {},
   "outputs": [],
   "source": [
    "# Bounds for parametrs in the emulator are same as prior ranges so\n",
    "#prior_df = pd.read_csv(filepath_or_buffer=\"DataFiles/PbPb2760_prior\", index_col=0)"
   ]
  },
  {
   "cell_type": "code",
   "execution_count": 335,
   "metadata": {},
   "outputs": [],
   "source": [
    "#prior_df.head()"
   ]
  },
  {
   "cell_type": "code",
   "execution_count": 336,
   "metadata": {},
   "outputs": [],
   "source": [
    "\n",
    "#experiment=pd.read_csv(filepath_or_buffer=\"DataFiles/PbPb2760_experiment\",index_col=0)\n",
    "#experiment.head()\n",
    "#y_exp=experiment.loc['mean'].values\n",
    "#y_exp_variance=experiment.loc['variance'].values\n",
    "#print(f'Shape of the experiment observables {y_exp.shape} and shape of the experimental error variance{y_exp_variance.shape}')"
   ]
  },
  {
   "cell_type": "markdown",
   "metadata": {},
   "source": [
    "### 4. Building emulators"
   ]
  },
  {
   "cell_type": "code",
   "execution_count": 337,
   "metadata": {},
   "outputs": [],
   "source": [
    "design_max = ranges[:,1]#prior_df.loc['max'].values\n",
    "design_min = ranges[:,0]#prior_df.loc['min'].values"
   ]
  },
  {
   "cell_type": "code",
   "execution_count": 338,
   "metadata": {},
   "outputs": [
    {
     "name": "stdout",
     "output_type": "stream",
     "text": [
      "GPR score is 0.9986025872568809 \n",
      "\n",
      "--- 0.15319609642028809 seconds ---\n",
      "GPR score is 0.9982381317411223 \n",
      "\n",
      "--- 0.1354978084564209 seconds ---\n",
      "GPR score is 0.9888289208647054 \n",
      "\n",
      "--- 0.19884777069091797 seconds ---\n"
     ]
    }
   ],
   "source": [
    "import time\n",
    "design = X\n",
    "overide = True\n",
    "input_dim=len(design_max)\n",
    "ptp = design_max - design_min\n",
    "bound=zip(design_min, design_max)\n",
    "if (os.path.exists(data_path(EMU))) and (overide==False):\n",
    "    print('Saved emulators exists and overide is prohibited')\n",
    "    with open(data_path(EMU),\"rb\") as f:\n",
    "        Emulators=pickle.load(f)\n",
    "else:\n",
    "    Emulators=[]\n",
    "    for i in range(0,Npc):\n",
    "        start_time = time.time()\n",
    "        kernel=1*krnl.RBF(length_scale=ptp,length_scale_bounds=np.outer(ptp, (5e-2, 1e2)))\\\n",
    "               + krnl.WhiteKernel(noise_level=.1, noise_level_bounds=(5e-2, 1e2))#+krnl.ConstantKernel()\n",
    "        GPR=gpr(kernel=kernel,n_restarts_optimizer=4)\n",
    "        GPR.fit(design, pc_tf_data[:,i].reshape(-1,1))\n",
    "        print(f'GPR score is {GPR.score(design,pc_tf_data[:,i])} \\n')\n",
    "        #print(f'GPR log_marginal likelihood {GPR.log_marginal_likelihood()} \\n')\n",
    "        print(\"--- %s seconds ---\" % (time.time() - start_time))\n",
    "        Emulators.append(GPR)\n",
    "\n",
    "if (overide==True) or not (os.path.exists(data_path(EMU))):\n",
    "    with open(data_path(EMU),\"wb\") as f:\n",
    "        pickle.dump(Emulators,f)"
   ]
  },
  {
   "cell_type": "code",
   "execution_count": 339,
   "metadata": {},
   "outputs": [],
   "source": [
    "def predict_observables(model_parameters):\n",
    "    \"\"\"Predicts the observables for any model parameter value using the trained emulators.\n",
    "    \n",
    "    Parameters\n",
    "    ----------\n",
    "    Theta_input : Model parameter values. Should be an 1D array of 17 model parametrs.\n",
    "    Return\n",
    "    ------\n",
    "    Mean value and full error covaraiance matrix of the prediction is returened. \"\"\"\n",
    "    \n",
    "    mean=[]\n",
    "    variance=[]\n",
    "    theta=np.array(model_parameters).flatten()\n",
    "    \n",
    "    if len(theta)!=Xdim:\n",
    "        raise TypeError('The input model_parameters array does not have the right dimensions')\n",
    "    else: \n",
    "        theta=np.array(theta).reshape(1,Xdim)\n",
    "        for i in range(0,Npc):\n",
    "            mn,std=Emulators[i].predict(theta,return_std=True)\n",
    "            mean.append(mn)\n",
    "            variance.append(std**2)\n",
    "    mean=np.array(mean).reshape(1,-1)\n",
    "    inverse_transformed_mean=mean @ inverse_tf_matrix + np.array(SS.mean_).reshape(1,-1)\n",
    "    inverse_transformed_mean[len(cen):] = np.exp(inverse_transformed_mean[len(cen):])\n",
    "    \n",
    "    variance_matrix=np.diag(np.array(variance).flatten())\n",
    "    A_p = np.abs(inverse_tf_matrix)\n",
    "    inverse_transformed_variance = np.einsum('ik,kl,lj-> ij', A_p.T, variance_matrix, A_p, optimize=False)\n",
    "    inverse_transformed_variance[:,len(cen):] *= inverse_transformed_mean[len(cen):]\n",
    "    return inverse_transformed_mean, inverse_transformed_variance"
   ]
  },
  {
   "cell_type": "markdown",
   "metadata": {},
   "source": [
    "### 5. Bayesian parameter inference"
   ]
  },
  {
   "cell_type": "code",
   "execution_count": 340,
   "metadata": {},
   "outputs": [],
   "source": [
    "def log_prior(model_parameters):\n",
    "    \"\"\"Evaluvate the prior at model prameter values. \n",
    "    If all parameters are inside bounds function will return 0 otherwise -inf\"\"\"\n",
    "    X = np.array(model_parameters).reshape(1,-1)\n",
    "    lower = np.all(X >= design_min)\n",
    "    upper = np.all(X <= design_max)\n",
    "    if (lower and upper):\n",
    "        lp=0\n",
    "    # lp = np.log(st.beta.pdf(X,5,1,dsgn_min_ut.reshape(1,-1),(dsgn_max_ut-dsgn_min_ut).reshape(1,-1))).sum()\n",
    "    else:\n",
    "        lp = -np.inf\n",
    "    return lp"
   ]
  },
  {
   "cell_type": "code",
   "execution_count": 341,
   "metadata": {},
   "outputs": [],
   "source": [
    "def mvn_loglike(y, cov):\n",
    "    \"\"\"\n",
    "    Evaluate the multivariate-normal log-likelihood for difference vector `y`\n",
    "    and covariance matrix `cov`:\n",
    "\n",
    "        log_p = -1/2*[(y^T).(C^-1).y + log(det(C))] + const.\n",
    "\n",
    "    The likelihood is NOT NORMALIZED, since this does not affect MCMC.  The\n",
    "    normalization const = -n/2*log(2*pi), where n is the dimensionality.\n",
    "\n",
    "    Arguments `y` and `cov` MUST be np.arrays with dtype == float64 and shapes\n",
    "    (n) and (n, n), respectively.  These requirements are NOT CHECKED.\n",
    "\n",
    "    The calculation follows algorithm 2.1 in Rasmussen and Williams (Gaussian\n",
    "    Processes for Machine Learning).\n",
    "\n",
    "    \"\"\"\n",
    "    # Compute the Cholesky decomposition of the covariance.\n",
    "    # Use bare LAPACK function to avoid scipy.linalg wrapper overhead.\n",
    "    L, info = lapack.dpotrf(cov, clean=False)\n",
    "\n",
    "    if info < 0:\n",
    "        raise ValueError(\n",
    "            'lapack dpotrf error: '\n",
    "            'the {}-th argument had an illegal value'.format(-info)\n",
    "        )\n",
    "    elif info < 0:\n",
    "        raise np.linalg.LinAlgError(\n",
    "            'lapack dpotrf error: '\n",
    "            'the leading minor of order {} is not positive definite'\n",
    "            .format(info)\n",
    "        )\n",
    "\n",
    "    # Solve for alpha = cov^-1.y using the Cholesky decomp.\n",
    "    alpha, info = lapack.dpotrs(L, y)\n",
    "\n",
    "    if info != 0:\n",
    "        raise ValueError(\n",
    "            'lapack dpotrs error: '\n",
    "            'the {}-th argument had an illegal value'.format(-info)\n",
    "        )\n",
    "  #  print(L.diagonal())\n",
    "    a=np.ones(len(L.diagonal()))*1e-10\n",
    "    #print(a)\n",
    "    #print(L)\n",
    "   # L=L+np.diag(a)\n",
    "    if np.all(L.diagonal()>0):\n",
    "        return -.5*np.dot(y, alpha) - np.log(L.diagonal()).sum()\n",
    "    else:\n",
    "        print(L.diagonal())\n",
    "        raise ValueError(\n",
    "            'L has negative values on diagonal {}'.format(L.diagonal())\n",
    "        )"
   ]
  },
  {
   "cell_type": "code",
   "execution_count": 342,
   "metadata": {},
   "outputs": [],
   "source": [
    "# Covariance truncation error from PC is not yet included\n",
    "def log_posterior(model_parameters):\n",
    "    #print(model_parameters)\n",
    "    mn,var = predict_observables(model_parameters)\n",
    "    delta_y = mn - y_exp.reshape(1,-1)\n",
    "    delta_y = delta_y.flatten()\n",
    "    \n",
    "    exp_var = np.diag(y_exp_variance)\n",
    "    \n",
    "    total_var = var + exp_var\n",
    "    #only_diagonal=np.diag(total_var.diagonal())\n",
    "    return log_prior(model_parameters) + mvn_loglike(delta_y,total_var)"
   ]
  },
  {
   "cell_type": "code",
   "execution_count": 343,
   "metadata": {},
   "outputs": [
    {
     "name": "stdout",
     "output_type": "stream",
     "text": [
      "3.0.2\n"
     ]
    }
   ],
   "source": [
    "#log_posterior(MAP_params['Pb-Pb-2760'])\n",
    "print(emcee.__version__)"
   ]
  },
  {
   "cell_type": "code",
   "execution_count": 344,
   "metadata": {},
   "outputs": [
    {
     "name": "stdout",
     "output_type": "stream",
     "text": [
      "MCMC sampling using emcee (affine-invariant ensamble sampler) with 30 walkers\n"
     ]
    },
    {
     "name": "stderr",
     "output_type": "stream",
     "text": [
      "\r",
      "  0%|          | 0/1000 [00:00<?, ?it/s]"
     ]
    },
    {
     "name": "stdout",
     "output_type": "stream",
     "text": [
      "burn in sampling started\n",
      "burn was true, going to burnin\n"
     ]
    },
    {
     "name": "stderr",
     "output_type": "stream",
     "text": [
      "100%|██████████| 1000/1000 [00:15<00:00, 66.52it/s]\n",
      "  0%|          | 6/4000 [00:00<01:08, 57.90it/s]"
     ]
    },
    {
     "name": "stdout",
     "output_type": "stream",
     "text": [
      "Mean acceptance fraction: 0.525 (in total 30000 steps)\n",
      "Burn in completed.\n",
      "Now running the samples\n"
     ]
    },
    {
     "name": "stderr",
     "output_type": "stream",
     "text": [
      "100%|██████████| 4000/4000 [00:56<00:00, 70.90it/s]"
     ]
    },
    {
     "name": "stdout",
     "output_type": "stream",
     "text": [
      "Mean acceptance fraction: 0.545 (in total 120000 steps)\n"
     ]
    },
    {
     "name": "stderr",
     "output_type": "stream",
     "text": [
      "\n"
     ]
    }
   ],
   "source": [
    "do_mcmc = True\n",
    "\n",
    "Burn=True\n",
    "from multiprocessing import Pool\n",
    "ndim = Xdim  # number of parameters in the model\n",
    "nwalkers = 10*Xdim  # number of MCMC walkers\n",
    "nburn = 1000 # \"burn-in\" period to let chains stabilize\n",
    "nsteps = 4000  # number of MCMC steps to take\n",
    "filename = data_path(name+\".h5\")\n",
    "\n",
    "if do_mcmc==True:\n",
    "    #backend = emcee.backends.HDFBackend(filename)\n",
    "    starting_guesses = design_min + (design_max - design_min) * np.random.rand(nwalkers, ndim)\n",
    "    #print(starting_guesses)\n",
    "    print(\"MCMC sampling using emcee (affine-invariant ensamble sampler) with {0} walkers\".format(nwalkers))\n",
    "    with Pool() as pool:\n",
    "        sampler = emcee.EnsembleSampler(nwalkers, ndim, log_posterior)#, pool=pool, backend=backend)\n",
    "        if Burn==True:\n",
    "            print('burn in sampling started')    \n",
    "            #backend.reset(nwalkers, ndim)\n",
    "            print('burn was true, going to burnin')\n",
    "            pos = sampler.run_mcmc(starting_guesses, nburn, progress=True, store=True)\n",
    "            print(\"Mean acceptance fraction: {0:.3f} (in total {1} steps)\".format(\n",
    "                        np.mean(sampler.acceptance_fraction), nwalkers*nburn))\n",
    "            print('Burn in completed.')\n",
    "        print(\"Now running the samples\")\n",
    "        sampler.run_mcmc(initial_state=None, nsteps=nsteps, progress=True, tune=False)  \n",
    "        print(\"Mean acceptance fraction: {0:.3f} (in total {1} steps)\".format(\n",
    "                        np.mean(sampler.acceptance_fraction), nwalkers*nsteps))\n",
    "        \n",
    "        # discard burn-in points and flatten the walkers; the shape of samples is (nwalkers*nsteps, ndim)\n",
    "        #samples = backend.get_chain(flat=True, discard=nburn)\n",
    "        samples = sampler.get_chain(flat=True)\n",
    "        samples_df = pd.DataFrame(samples, columns=model_param_dsgn)\n",
    "else:\n",
    "    df1=h5py.File(filename,mode='r')\n",
    "    samples= df1['mcmc']['chain'][500:,:,:]\n",
    "    samples_df=pd.DataFrame(samples.reshape(-1,Xdim), columns=model_param_dsgn)"
   ]
  },
  {
   "cell_type": "code",
   "execution_count": 345,
   "metadata": {},
   "outputs": [
    {
     "data": {
      "text/html": [
       "<div>\n",
       "<style scoped>\n",
       "    .dataframe tbody tr th:only-of-type {\n",
       "        vertical-align: middle;\n",
       "    }\n",
       "\n",
       "    .dataframe tbody tr th {\n",
       "        vertical-align: top;\n",
       "    }\n",
       "\n",
       "    .dataframe thead th {\n",
       "        text-align: right;\n",
       "    }\n",
       "</style>\n",
       "<table border=\"1\" class=\"dataframe\">\n",
       "  <thead>\n",
       "    <tr style=\"text-align: right;\">\n",
       "      <th></th>\n",
       "      <th>$N$</th>\n",
       "      <th>$\\eta/s(A)$</th>\n",
       "      <th>$\\eta/s(B)$</th>\n",
       "    </tr>\n",
       "  </thead>\n",
       "  <tbody>\n",
       "    <tr>\n",
       "      <td>0</td>\n",
       "      <td>12.321796</td>\n",
       "      <td>0.178534</td>\n",
       "      <td>1.864166</td>\n",
       "    </tr>\n",
       "    <tr>\n",
       "      <td>1</td>\n",
       "      <td>13.768909</td>\n",
       "      <td>0.137662</td>\n",
       "      <td>-0.810077</td>\n",
       "    </tr>\n",
       "    <tr>\n",
       "      <td>2</td>\n",
       "      <td>8.219016</td>\n",
       "      <td>0.128177</td>\n",
       "      <td>1.495178</td>\n",
       "    </tr>\n",
       "    <tr>\n",
       "      <td>3</td>\n",
       "      <td>13.635927</td>\n",
       "      <td>0.240742</td>\n",
       "      <td>1.662934</td>\n",
       "    </tr>\n",
       "    <tr>\n",
       "      <td>4</td>\n",
       "      <td>11.597136</td>\n",
       "      <td>0.380640</td>\n",
       "      <td>0.468638</td>\n",
       "    </tr>\n",
       "  </tbody>\n",
       "</table>\n",
       "</div>"
      ],
      "text/plain": [
       "         $N$  $\\eta/s(A)$  $\\eta/s(B)$\n",
       "0  12.321796     0.178534     1.864166\n",
       "1  13.768909     0.137662    -0.810077\n",
       "2   8.219016     0.128177     1.495178\n",
       "3  13.635927     0.240742     1.662934\n",
       "4  11.597136     0.380640     0.468638"
      ]
     },
     "execution_count": 345,
     "metadata": {},
     "output_type": "execute_result"
    }
   ],
   "source": [
    "samples_df.head()"
   ]
  },
  {
   "cell_type": "markdown",
   "metadata": {},
   "source": [
    "#### Find MAP"
   ]
  },
  {
   "cell_type": "code",
   "execution_count": 346,
   "metadata": {},
   "outputs": [
    {
     "name": "stdout",
     "output_type": "stream",
     "text": [
      "[ 6.00000095  0.2242039  -0.99999999]\n"
     ]
    }
   ],
   "source": [
    "find_map_param = True\n",
    "if find_map_param == True:\n",
    "    bounds=[(a,b) for (a,b) in zip(design_min,design_max)]\n",
    "    rslt = optimize.differential_evolution(lambda x: -log_posterior(x), \n",
    "                                           bounds=bounds,\n",
    "                                          #disp=True,\n",
    "                                          tol=1e-7,\n",
    "                                         )\n",
    "    print(rslt.x)"
   ]
  },
  {
   "cell_type": "code",
   "execution_count": 347,
   "metadata": {},
   "outputs": [],
   "source": [
    "map_values_saved = rslt.x\n",
    "true_values = np.array([norm0,etasA0, etasB0])"
   ]
  },
  {
   "cell_type": "code",
   "execution_count": 348,
   "metadata": {},
   "outputs": [],
   "source": [
    "#np.divide(map_values_saved,MAP_params['Pb-Pb-2760'])"
   ]
  },
  {
   "cell_type": "code",
   "execution_count": 349,
   "metadata": {},
   "outputs": [
    {
     "data": {
      "text/html": [
       "<svg  width=\"550\" height=\"55\"><rect x=\"0\" y=\"0\" width=\"55\" height=\"55\" style=\"fill:#023eff;stroke-width:2;stroke:rgb(255,255,255)\"/><rect x=\"55\" y=\"0\" width=\"55\" height=\"55\" style=\"fill:#ff7c00;stroke-width:2;stroke:rgb(255,255,255)\"/><rect x=\"110\" y=\"0\" width=\"55\" height=\"55\" style=\"fill:#1ac938;stroke-width:2;stroke:rgb(255,255,255)\"/><rect x=\"165\" y=\"0\" width=\"55\" height=\"55\" style=\"fill:#e8000b;stroke-width:2;stroke:rgb(255,255,255)\"/><rect x=\"220\" y=\"0\" width=\"55\" height=\"55\" style=\"fill:#8b2be2;stroke-width:2;stroke:rgb(255,255,255)\"/><rect x=\"275\" y=\"0\" width=\"55\" height=\"55\" style=\"fill:#9f4800;stroke-width:2;stroke:rgb(255,255,255)\"/><rect x=\"330\" y=\"0\" width=\"55\" height=\"55\" style=\"fill:#f14cc1;stroke-width:2;stroke:rgb(255,255,255)\"/><rect x=\"385\" y=\"0\" width=\"55\" height=\"55\" style=\"fill:#a3a3a3;stroke-width:2;stroke:rgb(255,255,255)\"/><rect x=\"440\" y=\"0\" width=\"55\" height=\"55\" style=\"fill:#ffc400;stroke-width:2;stroke:rgb(255,255,255)\"/><rect x=\"495\" y=\"0\" width=\"55\" height=\"55\" style=\"fill:#00d7ff;stroke-width:2;stroke:rgb(255,255,255)\"/></svg>"
      ],
      "text/plain": [
       "[(0.00784313725490196, 0.24313725490196078, 1.0),\n",
       " (1.0, 0.48627450980392156, 0.0),\n",
       " (0.10196078431372549, 0.788235294117647, 0.2196078431372549),\n",
       " (0.9098039215686274, 0.0, 0.043137254901960784),\n",
       " (0.5450980392156862, 0.16862745098039217, 0.8862745098039215),\n",
       " (0.6235294117647059, 0.2823529411764706, 0.0),\n",
       " (0.9450980392156862, 0.2980392156862745, 0.7568627450980392),\n",
       " (0.6392156862745098, 0.6392156862745098, 0.6392156862745098),\n",
       " (1.0, 0.7686274509803922, 0.0),\n",
       " (0.0, 0.8431372549019608, 1.0)]"
      ]
     },
     "execution_count": 349,
     "metadata": {},
     "output_type": "execute_result"
    }
   ],
   "source": [
    "sns.color_palette('bright')"
   ]
  },
  {
   "cell_type": "code",
   "execution_count": 350,
   "metadata": {},
   "outputs": [
    {
     "data": {
      "image/png": "[encoded data removed]",
      "text/plain": [
       "<Figure size 540x540 with 9 Axes>"
      ]
     },
     "metadata": {
      "needs_background": "light"
     },
     "output_type": "display_data"
    }
   ],
   "source": [
    "#sns.set_context(\"notebook\", font_scale=1.5)\n",
    "#sns.set_style(\"ticks\")\n",
    "#sns.set_palette('bright')\n",
    "map_parameters = map_values_saved.flatten()\n",
    "observables_to_plot=[0, 1, 2]\n",
    "g = sns.PairGrid(samples_df.iloc[:,observables_to_plot], corner=True, diag_sharey=False)\n",
    "g.map_lower(sns.histplot, bins=100, color=sns.color_palette()[0])\n",
    "g.map_diag(sns.kdeplot, linewidth=2, shade=True, color=sns.color_palette()[-1])\n",
    "for n, i in enumerate(observables_to_plot):\n",
    "    ax=g.axes[n][n]\n",
    "    ax.axvline(x=map_parameters[i], ls='--', c=sns.color_palette()[9], label='MAP')\n",
    "    ax.axvline(x=true_values[i], ls='-', c=sns.color_palette()[3], label='Truth')\n",
    "    ax.text(0,0.9,s= f'{map_parameters[i]:.2f}', transform=ax.transAxes, color=sns.color_palette()[9], fontsize=12)\n",
    "    ax.text(0,0.8,s= f'{true_values[i]:.2f}', transform=ax.transAxes, color=sns.color_palette()[3], fontsize=12)\n",
    "g.axes[1,1].legend(loc='best', fontsize=10)\n",
    "for i in range(Xdim):\n",
    "    for j in range(i+1):\n",
    "        g.axes[i,j].set_xlim(*ranges[j])\n",
    "        if i==j:\n",
    "            g.axes[i,j].set_ylim(*ranges[i])\n",
    "            \n",
    "        else:\n",
    "            g.axes[i,j].set_ylim(ymax=0)\n",
    "plt.tight_layout()\n",
    "save_fig(name+\"partial\")\n",
    "plt.show()"
   ]
  },
  {
   "cell_type": "code",
   "execution_count": 351,
   "metadata": {},
   "outputs": [
    {
     "data": {
      "image/png": "[encoded data removed]",
      "text/plain": [
       "<Figure size 432x360 with 1 Axes>"
      ]
     },
     "metadata": {
      "needs_background": "light"
     },
     "output_type": "display_data"
    }
   ],
   "source": [
    "Tt = np.linspace(0.15, 0.6, 100)\n",
    "Nsamples = 10000\n",
    "Nthin = samples_df.size//Nsamples\n",
    "# prior samples of eta/s(T)\n",
    "prior_etas = np.array([\n",
    "        etas(Tt, *row) for row in ((ranges[1:3,1]-ranges[1:3,0])*np.random.rand(Nsamples,2)+ranges[1:3,0])\n",
    "])\n",
    "# posterior samples of eta/s(T)\n",
    "posterior_etas = np.array([\n",
    "        etas(Tt, *row) for row in samples_df.iloc[::Nthin,[1,2]].values\n",
    "])\n",
    "\n",
    "fig, ax = plt.subplots(nrows=1, ncols=1, figsize=(6,5),\n",
    "                      sharex=False, sharey=False, \n",
    "                      constrained_layout=True)\n",
    "fig.suptitle(\"Posterior v.s. Prior\", wrap=True)\n",
    "\n",
    "# plot posterior, display 30%, 60%, and 90% credible limits\n",
    "CLbins = [30,60,90]\n",
    "for CL, opacity in zip(CLbins, [.8,.6,.4]):\n",
    "    lower, upper = np.percentile(posterior_etas, [50-CL/2., 50+CL/2.], axis=0)\n",
    "    ax.fill_between(Tt,lower, upper,color=sns.color_palette()[1], alpha=opacity, label='{:d}% Posterior'.format(CL))\n",
    "    \n",
    "# plot prior, display 30%, 60%, 90%, and 100% credible limits\n",
    "CLbins = [30,60,90,100]\n",
    "for CL, opacity in zip(CLbins, [.25,.2,.15,.1]):\n",
    "    lower, upper = np.percentile(prior_etas, [50-CL/2., 50+CL/2.], axis=0)\n",
    "    ax.fill_between(Tt,lower, upper,color=sns.color_palette()[0], alpha=opacity, label='{:d}% Prior'.format(CL))\n",
    "\n",
    "ax.plot(Tt, etas(Tt, etasA0, etasB0), '-', color=plt.cm.Reds(.4), lw=3, label='Truth')\n",
    "\n",
    "ax.legend(loc='upper left', ncol=2)\n",
    "ax.set_ylim(0,.8)\n",
    "ax.set_xlabel('T [GeV]')\n",
    "ax.set_ylabel('$\\eta/s$')\n",
    "save_fig('shear_simple_model')"
   ]
  },
  {
   "cell_type": "markdown",
   "metadata": {},
   "source": [
    "Finally, it is always important to check if the observables are well described.\n",
    "It is possible that a poorly performing model produce a tightly-constrained posterior."
   ]
  },
  {
   "cell_type": "code",
   "execution_count": 352,
   "metadata": {},
   "outputs": [],
   "source": [
    "Nsamples = 300\n",
    "Nthin = samples_df.size//Nsamples\n",
    "# prior parameter samples\n",
    "prior_params = (ranges[:,1]-ranges[:,0])*np.random.rand(Nsamples,3) + ranges[:,0]\n",
    "# posterior parameter samples \n",
    "posterior_params =  samples_df.iloc[::Nthin,:].values\n",
    "\n",
    "prior_obs = [predict_observables(p)[0][0] for p in prior_params]\n",
    "posterior_obs = [predict_observables(p)[0][0] for p in posterior_params]\n"
   ]
  },
  {
   "cell_type": "markdown",
   "metadata": {},
   "source": [
    "#### Define temperature dependent viscosity functions"
   ]
  },
  {
   "cell_type": "code",
   "execution_count": 354,
   "metadata": {},
   "outputs": [
    {
     "data": {
      "image/png": "[encoded data removed]",
      "text/plain": [
       "<Figure size 432x216 with 2 Axes>"
      ]
     },
     "metadata": {
      "needs_background": "light"
     },
     "output_type": "display_data"
    }
   ],
   "source": [
    "fig, axes = plt.subplots(1,2, figsize=(6,3), sharex=True)\n",
    "\n",
    "for y in prior_obs:\n",
    "    y1, y2 = y[:len(cen)], y[len(cen):]\n",
    "    y2 = np.exp(y2)\n",
    "    axes[0].plot(cen, y1, color=sns.color_palette()[0], alpha=.1)\n",
    "    axes[1].plot(cen, y2, color=sns.color_palette()[0], alpha=.1)\n",
    "for y in posterior_obs:\n",
    "    y1, y2 = y[:len(cen)], y[len(cen):]\n",
    "    y2 = np.exp(y2)\n",
    "    axes[0].plot(cen, y1, color=sns.color_palette()[1], alpha=.1)\n",
    "    axes[1].plot(cen, y2, color=sns.color_palette()[1], alpha=.1)\n",
    "for ax,y,name in zip(axes, \n",
    "                    [Mult, v2],\n",
    "                    [r\"$N_{\\rm ch}$\", r\"$v_2$\"]):\n",
    "    ax.errorbar(cen, y, yerr=y*.05, fmt='k.')\n",
    "    ax.set_ylabel(name)\n",
    "    ax.set_xlabel(\"Centrality (%)\")\n",
    "    ax.set_ylim(ymin=0, ymax=y.max()*2)\n",
    "plt.tight_layout(True)"
   ]
  },
  {
   "cell_type": "code",
   "execution_count": null,
   "metadata": {},
   "outputs": [],
   "source": []
  },
  {
   "cell_type": "code",
   "execution_count": null,
   "metadata": {},
   "outputs": [],
   "source": []
  },
  {
   "cell_type": "markdown",
   "metadata": {},
   "source": [
    "# To do list\n",
    "> Emulator validation\n",
    "\n",
    "> Closure tests\n",
    "\n",
    "> Observable predictions from MAP\n",
    "\n",
    "> Including other systems in the parameter estimation\n",
    "\n",
    "> Tests for MCMC convergence\n",
    "\n",
    "> Bayesian evidence calculation\n",
    "\n",
    "> Repeat the Analysis for different model choices\n",
    "\n",
    "> Bayesian Model Averaging\n"
   ]
  },
  {
   "cell_type": "code",
   "execution_count": null,
   "metadata": {},
   "outputs": [],
   "source": []
  }
 ],
 "metadata": {
  "kernelspec": {
   "display_name": "Python 3",
   "language": "python",
   "name": "python3"
  },
  "language_info": {
   "codemirror_mode": {
    "name": "ipython",
    "version": 3
   },
   "file_extension": ".py",
   "mimetype": "text/x-python",
   "name": "python",
   "nbconvert_exporter": "python",
   "pygments_lexer": "ipython3",
   "version": "3.7.3"
  }
 },
 "nbformat": 4,
 "nbformat_minor": 4
}
